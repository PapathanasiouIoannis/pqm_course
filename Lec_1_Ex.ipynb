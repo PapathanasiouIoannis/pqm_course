{
 "cells": [
  {
   "cell_type": "markdown",
   "id": "53f2e29d-9235-4442-b2f7-562348c3003c",
   "metadata": {},
   "source": [
    "Άσκηση: Υπολογίστε την ενέργεια του κβαντικού ταλαντωτή σε διάφορες καταστάσεις (n = 0, 1, 2, ...) χρησιμοποιώντας τη φόρμουλα:\n",
    "\n",
    "\n",
    "$$E_n=(n+\\frac{1}{2})\\hbar \\omega$$\n",
    "για τα πρώτα 5 επίπεδα (n = 0 έως 4) και να τις εκτυπώσετε"
   ]
  },
  {
   "cell_type": "code",
   "execution_count": 8,
   "id": "c53b1de1-3ffc-4af9-9a98-59e24affda8b",
   "metadata": {},
   "outputs": [
    {
     "name": "stdout",
     "output_type": "stream",
     "text": [
      "Για το n=0, η ενέργεια E_n είναι: 5.272859e-35 Joules\n",
      "Για το n=1, η ενέργεια E_n είναι: 1.5818577e-34 Joules\n",
      "Για το n=2, η ενέργεια E_n είναι: 2.6364295e-34 Joules\n",
      "Για το n=3, η ενέργεια E_n είναι: 3.6910013e-34 Joules\n",
      "Για το n=4, η ενέργεια E_n είναι: 4.7455731e-34 Joules\n"
     ]
    }
   ],
   "source": [
    "# Σταθερές\n",
    "h_bar = 1.0545718e-34  # μειωμένη σταθερά του Πλάνκ σε J·s\n",
    "omega = 1.0  # γωνιακή συχνότητα (αυτή είναι μια τυχαία τιμή για την άσκηση)\n",
    "\n",
    "# Αρχική τιμή του n\n",
    "n = 0\n",
    "\n",
    "# Επανάληψη για τα πρώτα 5 επίπεδα\n",
    "while n < 5 :\n",
    "    # Υπολογισμός της ενέργειας για το επίπεδο n\n",
    "    E_n = (n+(1/2))*h_bar*omega\n",
    "    # Εμφάνιση αποτελέσματος με βάση την τιμή του n\n",
    "    \n",
    "    print(f\"Για το n={n}, η ενέργεια E_n είναι: {E_n} Joules\")\n",
    "   \n",
    "    # Αυξάνουμε το n για την επόμενη κατάσταση\n",
    "    n += 1"
   ]
  },
  {
   "cell_type": "code",
   "execution_count": null,
   "id": "a54c3d14-4173-4ca3-a2e5-69c2357a4908",
   "metadata": {},
   "outputs": [],
   "source": []
  }
 ],
 "metadata": {
  "kernelspec": {
   "display_name": "Python [conda env:base] *",
   "language": "python",
   "name": "conda-base-py"
  },
  "language_info": {
   "codemirror_mode": {
    "name": "ipython",
    "version": 3
   },
   "file_extension": ".py",
   "mimetype": "text/x-python",
   "name": "python",
   "nbconvert_exporter": "python",
   "pygments_lexer": "ipython3",
   "version": "3.12.7"
  }
 },
 "nbformat": 4,
 "nbformat_minor": 5
}
