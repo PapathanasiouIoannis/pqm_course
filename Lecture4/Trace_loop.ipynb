{
 "cells": [
  {
   "cell_type": "code",
   "execution_count": 6,
   "id": "dc0eb93d-f932-45d6-a2ed-10584a25f3a9",
   "metadata": {},
   "outputs": [
    {
     "name": "stdout",
     "output_type": "stream",
     "text": [
      "2\n",
      "0j\n",
      "0\n",
      "0j\n",
      "(2+0j)\n",
      "0j\n",
      "0\n",
      "0j\n",
      "2\n"
     ]
    }
   ],
   "source": [
    "import numpy as np\n",
    "\n",
    "# Ορισμός των Πινάκων Παούλι\n",
    "sigma_x = np.array([[0, 1], [1, 0]])\n",
    "sigma_y = np.array([[0, -1j], [1j, 0]])\n",
    "sigma_z = np.array([[1, 0], [0, -1]])\n",
    "\n",
    "# Λίστα με τους πίνακες\n",
    "pauli_matrices = [sigma_x, sigma_y, sigma_z]\n",
    "\n",
    "# Διπλό loop για υπολογισμό trace για κάθε συνδυασμό\n",
    "for A in pauli_matrices:\n",
    "    for B in pauli_matrices:\n",
    "        result = np.trace(np.matmul(A, B))  # Χρήση np.dot\n",
    "        print(result)"
   ]
  },
  {
   "cell_type": "code",
   "execution_count": 4,
   "id": "90aa05bd-1d69-4aac-ab06-b0bfede458fd",
   "metadata": {},
   "outputs": [
    {
     "name": "stdout",
     "output_type": "stream",
     "text": [
      "Tr(σ_x * σ_x) = 2\n",
      "Tr(σ_x * σ_y) = 0j\n",
      "Tr(σ_x * σ_z) = 0\n",
      "Tr(σ_y * σ_x) = 0j\n",
      "Tr(σ_y * σ_y) = (2+0j)\n",
      "Tr(σ_y * σ_z) = 0j\n",
      "Tr(σ_z * σ_x) = 0\n",
      "Tr(σ_z * σ_y) = 0j\n",
      "Tr(σ_z * σ_z) = 2\n"
     ]
    }
   ],
   "source": [
    "import numpy as np\n",
    "\n",
    "# Ορισμός των Πινάκων Παούλι\n",
    "sigma_x = np.array([[0, 1], [1, 0]])\n",
    "sigma_y = np.array([[0, -1j], [1j, 0]])\n",
    "sigma_z = np.array([[1, 0], [0, -1]])\n",
    "\n",
    "# Λίστα με τους πίνακες\n",
    "pauli_matrices = [sigma_x, sigma_y, sigma_z]\n",
    "labels = ['σ_x', 'σ_y', 'σ_z']\n",
    "\n",
    "for i in range(len(pauli_matrices)):\n",
    "    for j in range(len(pauli_matrices)):\n",
    "        A = pauli_matrices[i]\n",
    "        B = pauli_matrices[j]\n",
    "        result = np.trace(np.dot(A, B))  # Χρήση np.dot αντί για matmul\n",
    "        print(f\"Tr({labels[i]} * {labels[j]}) = {result}\")"
   ]
  },
  {
   "cell_type": "code",
   "execution_count": 1,
   "id": "a4587208-2bb2-474e-8898-f7fe6fc095fe",
   "metadata": {},
   "outputs": [
    {
     "name": "stdout",
     "output_type": "stream",
     "text": [
      "Tr(σ_x * σ_x) = 2\n",
      "Tr(σ_x * σ_y) = 0j\n",
      "Tr(σ_x * σ_z) = 0\n",
      "Tr(σ_y * σ_x) = 0j\n",
      "Tr(σ_y * σ_y) = (2+0j)\n",
      "Tr(σ_y * σ_z) = 0j\n",
      "Tr(σ_z * σ_x) = 0\n",
      "Tr(σ_z * σ_y) = 0j\n",
      "Tr(σ_z * σ_z) = 2\n"
     ]
    }
   ],
   "source": [
    "import numpy as np\n",
    "\n",
    "# Ορισμός των Πινάκων Παούλι\n",
    "pauli_matrices = {\n",
    "    'σ_x': np.array([[0, 1], [1, 0]]),\n",
    "    'σ_y': np.array([[0, -1j], [1j, 0]]),\n",
    "    'σ_z': np.array([[1, 0], [0, -1]])\n",
    "}\n",
    "\n",
    "# Υπολογισμός trace για κάθε συνδυασμό\n",
    "for key1, A in pauli_matrices.items():\n",
    "    for key2, B in pauli_matrices.items():\n",
    "        result = np.trace(np.dot(A, B))  # Πολλαπλασιασμός πινάκων και υπολογισμός trace\n",
    "        print(f\"Tr({key1} * {key2}) = {result}\")\n"
   ]
  },
  {
   "cell_type": "code",
   "execution_count": 2,
   "id": "bedb5c88-2f03-46e6-9d19-0c9d71c75da9",
   "metadata": {},
   "outputs": [
    {
     "data": {
      "text/plain": [
       "dict_items([('σ_x', array([[0, 1],\n",
       "       [1, 0]])), ('σ_y', array([[ 0.+0.j, -0.-1.j],\n",
       "       [ 0.+1.j,  0.+0.j]])), ('σ_z', array([[ 1,  0],\n",
       "       [ 0, -1]]))])"
      ]
     },
     "execution_count": 2,
     "metadata": {},
     "output_type": "execute_result"
    }
   ],
   "source": [
    "pauli_matrices.items()"
   ]
  }
 ],
 "metadata": {
  "kernelspec": {
   "display_name": "Python 3 (ipykernel)",
   "language": "python",
   "name": "python3"
  },
  "language_info": {
   "codemirror_mode": {
    "name": "ipython",
    "version": 3
   },
   "file_extension": ".py",
   "mimetype": "text/x-python",
   "name": "python",
   "nbconvert_exporter": "python",
   "pygments_lexer": "ipython3",
   "version": "3.12.3"
  }
 },
 "nbformat": 4,
 "nbformat_minor": 5
}
