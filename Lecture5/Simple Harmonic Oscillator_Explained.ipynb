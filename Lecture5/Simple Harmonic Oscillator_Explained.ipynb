{
 "cells": [
  {
   "cell_type": "code",
   "execution_count": 1,
   "id": "172d9f6f-bdd6-4f05-ae0f-e44a0483736b",
   "metadata": {},
   "outputs": [],
   "source": [
    "import matplotlib\n",
    "import matplotlib.pyplot as plt \n",
    "import numpy\n",
    "import numpy.polynomial.hermite as Herm\n",
    "import math"
   ]
  },
  {
   "cell_type": "code",
   "execution_count": 2,
   "id": "5d405c32-b998-4da4-b6d6-ca8259b206f0",
   "metadata": {},
   "outputs": [],
   "source": [
    "# Επιλέξτε απλές μονάδες\n",
    "m=1.\n",
    "w=1.\n",
    "hbar=1.\n",
    "\n",
    "# Διακριτός χώρος\n",
    "dx = 0.05\n",
    "x_lim = 12\n",
    "x = numpy.arange(-x_lim,x_lim,dx)"
   ]
  },
  {
   "cell_type": "code",
   "execution_count": 6,
   "id": "4f84cd95-50a5-4a3f-b9b6-a39e4d8bdb42",
   "metadata": {},
   "outputs": [],
   "source": [
    "n=3\n",
    "E = hbar*w*(n+0.5)\n",
    "x_max = numpy.sqrt(2*E/(m*w**2))"
   ]
  },
  {
   "cell_type": "code",
   "execution_count": 9,
   "id": "9f4e0018-fc33-4e28-8593-13c77b813de2",
   "metadata": {},
   "outputs": [
    {
     "data": {
      "text/plain": [
       "480"
      ]
     },
     "execution_count": 9,
     "metadata": {},
     "output_type": "execute_result"
    }
   ],
   "source": [
    "x.shape[0]"
   ]
  },
  {
   "cell_type": "code",
   "execution_count": 7,
   "id": "4f1342e7-502f-4a97-a59a-5a81992cd2d1",
   "metadata": {},
   "outputs": [],
   "source": [
    "x_inside = abs(x) < (x_max - 0.025)"
   ]
  },
  {
   "cell_type": "code",
   "execution_count": 8,
   "id": "c02fd240-a546-4a06-adfd-9a2d5d631ad3",
   "metadata": {},
   "outputs": [
    {
     "data": {
      "text/plain": [
       "array([False, False, False, False, False, False, False, False, False,\n",
       "       False, False, False, False, False, False, False, False, False,\n",
       "       False, False, False, False, False, False, False, False, False,\n",
       "       False, False, False, False, False, False, False, False, False,\n",
       "       False, False, False, False, False, False, False, False, False,\n",
       "       False, False, False, False, False, False, False, False, False,\n",
       "       False, False, False, False, False, False, False, False, False,\n",
       "       False, False, False, False, False, False, False, False, False,\n",
       "       False, False, False, False, False, False, False, False, False,\n",
       "       False, False, False, False, False, False, False, False, False,\n",
       "       False, False, False, False, False, False, False, False, False,\n",
       "       False, False, False, False, False, False, False, False, False,\n",
       "       False, False, False, False, False, False, False, False, False,\n",
       "       False, False, False, False, False, False, False, False, False,\n",
       "       False, False, False, False, False, False, False, False, False,\n",
       "       False, False, False, False, False, False, False, False, False,\n",
       "       False, False, False, False, False, False, False, False, False,\n",
       "       False, False, False, False, False, False, False, False, False,\n",
       "       False, False, False, False, False, False, False, False, False,\n",
       "       False, False, False, False, False, False, False, False, False,\n",
       "       False, False, False, False, False, False, False, False,  True,\n",
       "        True,  True,  True,  True,  True,  True,  True,  True,  True,\n",
       "        True,  True,  True,  True,  True,  True,  True,  True,  True,\n",
       "        True,  True,  True,  True,  True,  True,  True,  True,  True,\n",
       "        True,  True,  True,  True,  True,  True,  True,  True,  True,\n",
       "        True,  True,  True,  True,  True,  True,  True,  True,  True,\n",
       "        True,  True,  True,  True,  True,  True,  True,  True,  True,\n",
       "        True,  True,  True,  True,  True,  True,  True,  True,  True,\n",
       "        True,  True,  True,  True,  True,  True,  True,  True,  True,\n",
       "        True,  True,  True,  True,  True,  True,  True,  True,  True,\n",
       "        True,  True,  True,  True,  True,  True,  True,  True,  True,\n",
       "        True,  True,  True,  True,  True,  True,  True,  True,  True,\n",
       "        True,  True,  True,  True,  True, False, False, False, False,\n",
       "       False, False, False, False, False, False, False, False, False,\n",
       "       False, False, False, False, False, False, False, False, False,\n",
       "       False, False, False, False, False, False, False, False, False,\n",
       "       False, False, False, False, False, False, False, False, False,\n",
       "       False, False, False, False, False, False, False, False, False,\n",
       "       False, False, False, False, False, False, False, False, False,\n",
       "       False, False, False, False, False, False, False, False, False,\n",
       "       False, False, False, False, False, False, False, False, False,\n",
       "       False, False, False, False, False, False, False, False, False,\n",
       "       False, False, False, False, False, False, False, False, False,\n",
       "       False, False, False, False, False, False, False, False, False,\n",
       "       False, False, False, False, False, False, False, False, False,\n",
       "       False, False, False, False, False, False, False, False, False,\n",
       "       False, False, False, False, False, False, False, False, False,\n",
       "       False, False, False, False, False, False, False, False, False,\n",
       "       False, False, False, False, False, False, False, False, False,\n",
       "       False, False, False, False, False, False, False, False, False,\n",
       "       False, False, False, False, False, False, False, False, False,\n",
       "       False, False, False, False, False, False, False, False, False,\n",
       "       False, False, False, False, False, False, False, False, False,\n",
       "       False, False, False])"
      ]
     },
     "execution_count": 8,
     "metadata": {},
     "output_type": "execute_result"
    }
   ],
   "source": [
    "x_inside"
   ]
  },
  {
   "cell_type": "code",
   "execution_count": 12,
   "id": "5e2bd642-7dc3-4fd7-b4bc-935ca1f23810",
   "metadata": {},
   "outputs": [
    {
     "data": {
      "text/plain": [
       "(480,)"
      ]
     },
     "execution_count": 12,
     "metadata": {},
     "output_type": "execute_result"
    }
   ],
   "source": [
    "x_inside.shape"
   ]
  },
  {
   "cell_type": "code",
   "execution_count": 14,
   "id": "a700c0ea-be8e-4b95-a5ef-da0a1089c384",
   "metadata": {},
   "outputs": [
    {
     "data": {
      "text/plain": [
       "array([-2.60000000e+00, -2.55000000e+00, -2.50000000e+00, -2.45000000e+00,\n",
       "       -2.40000000e+00, -2.35000000e+00, -2.30000000e+00, -2.25000000e+00,\n",
       "       -2.20000000e+00, -2.15000000e+00, -2.10000000e+00, -2.05000000e+00,\n",
       "       -2.00000000e+00, -1.95000000e+00, -1.90000000e+00, -1.85000000e+00,\n",
       "       -1.80000000e+00, -1.75000000e+00, -1.70000000e+00, -1.65000000e+00,\n",
       "       -1.60000000e+00, -1.55000000e+00, -1.50000000e+00, -1.45000000e+00,\n",
       "       -1.40000000e+00, -1.35000000e+00, -1.30000000e+00, -1.25000000e+00,\n",
       "       -1.20000000e+00, -1.15000000e+00, -1.10000000e+00, -1.05000000e+00,\n",
       "       -1.00000000e+00, -9.50000000e-01, -9.00000000e-01, -8.50000000e-01,\n",
       "       -8.00000000e-01, -7.50000000e-01, -7.00000000e-01, -6.50000000e-01,\n",
       "       -6.00000000e-01, -5.50000000e-01, -5.00000000e-01, -4.50000000e-01,\n",
       "       -4.00000000e-01, -3.50000000e-01, -3.00000000e-01, -2.50000000e-01,\n",
       "       -2.00000000e-01, -1.50000000e-01, -1.00000000e-01, -5.00000000e-02,\n",
       "        1.70530257e-13,  5.00000000e-02,  1.00000000e-01,  1.50000000e-01,\n",
       "        2.00000000e-01,  2.50000000e-01,  3.00000000e-01,  3.50000000e-01,\n",
       "        4.00000000e-01,  4.50000000e-01,  5.00000000e-01,  5.50000000e-01,\n",
       "        6.00000000e-01,  6.50000000e-01,  7.00000000e-01,  7.50000000e-01,\n",
       "        8.00000000e-01,  8.50000000e-01,  9.00000000e-01,  9.50000000e-01,\n",
       "        1.00000000e+00,  1.05000000e+00,  1.10000000e+00,  1.15000000e+00,\n",
       "        1.20000000e+00,  1.25000000e+00,  1.30000000e+00,  1.35000000e+00,\n",
       "        1.40000000e+00,  1.45000000e+00,  1.50000000e+00,  1.55000000e+00,\n",
       "        1.60000000e+00,  1.65000000e+00,  1.70000000e+00,  1.75000000e+00,\n",
       "        1.80000000e+00,  1.85000000e+00,  1.90000000e+00,  1.95000000e+00,\n",
       "        2.00000000e+00,  2.05000000e+00,  2.10000000e+00,  2.15000000e+00,\n",
       "        2.20000000e+00,  2.25000000e+00,  2.30000000e+00,  2.35000000e+00,\n",
       "        2.40000000e+00,  2.45000000e+00,  2.50000000e+00,  2.55000000e+00,\n",
       "        2.60000000e+00])"
      ]
     },
     "execution_count": 14,
     "metadata": {},
     "output_type": "execute_result"
    }
   ],
   "source": [
    "x[x_inside]"
   ]
  },
  {
   "cell_type": "code",
   "execution_count": 13,
   "id": "1c033750-4269-432b-819b-71ce49ec5cc8",
   "metadata": {},
   "outputs": [
    {
     "data": {
      "text/plain": [
       "(105,)"
      ]
     },
     "execution_count": 13,
     "metadata": {},
     "output_type": "execute_result"
    }
   ],
   "source": [
    "x[x_inside].shape"
   ]
  },
  {
   "cell_type": "markdown",
   "id": "69ba7b07-a12e-4cb9-bfd0-04e8dda3611d",
   "metadata": {},
   "source": [
    "---"
   ]
  },
  {
   "cell_type": "code",
   "execution_count": null,
   "id": "41b00a32-7dc9-4e66-9cd6-4d2fdc0afac2",
   "metadata": {},
   "outputs": [],
   "source": []
  }
 ],
 "metadata": {
  "kernelspec": {
   "display_name": "Python 3 (ipykernel)",
   "language": "python",
   "name": "python3"
  },
  "language_info": {
   "codemirror_mode": {
    "name": "ipython",
    "version": 3
   },
   "file_extension": ".py",
   "mimetype": "text/x-python",
   "name": "python",
   "nbconvert_exporter": "python",
   "pygments_lexer": "ipython3",
   "version": "3.12.3"
  }
 },
 "nbformat": 4,
 "nbformat_minor": 5
}
