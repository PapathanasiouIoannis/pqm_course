{
 "cells": [
  {
   "cell_type": "markdown",
   "id": "f20922e6",
   "metadata": {},
   "source": [
    "# Εισαγωγή στην Python"
   ]
  },
  {
   "cell_type": "markdown",
   "id": "7e356922",
   "metadata": {},
   "source": [
    "## Η εντολή for "
   ]
  },
  {
   "cell_type": "code",
   "execution_count": 1,
   "id": "d346ce37",
   "metadata": {},
   "outputs": [
    {
     "name": "stdout",
     "output_type": "stream",
     "text": [
      "0\n",
      "I love Python\n",
      "1\n",
      "I love Python\n",
      "2\n",
      "I love Python\n",
      "3\n",
      "I love Python\n",
      "4\n",
      "I love Python\n",
      "5\n",
      "I love Python\n"
     ]
    }
   ],
   "source": [
    "# Επανάληψη από x = 0 to x = 5\n",
    "for x in range(6):\n",
    "    print(x)\n",
    "print('I love Python')"
   ]
  },
  {
   "cell_type": "code",
   "execution_count": 9,
   "id": "7b43e97b",
   "metadata": {},
   "outputs": [
    {
     "data": {
      "text/plain": [
       "[0, 1, 2, 3, 4, 5]"
      ]
     },
     "execution_count": 9,
     "metadata": {},
     "output_type": "execute_result"
    }
   ],
   "source": [
    "list(range(6))"
   ]
  },
  {
   "cell_type": "code",
   "execution_count": 10,
   "id": "cfd6bc8a",
   "metadata": {},
   "outputs": [
    {
     "name": "stdout",
     "output_type": "stream",
     "text": [
      "0\n",
      "I love Python\n",
      "2\n",
      "I love Python\n",
      "4\n",
      "I love Python\n"
     ]
    }
   ],
   "source": [
    "#με βήμα 2\n",
    "for i in range(0, 6, 2):\n",
    "    print(i)\n",
    "    print('I love Python')"
   ]
  },
  {
   "cell_type": "code",
   "execution_count": 11,
   "id": "2a89fecf",
   "metadata": {},
   "outputs": [
    {
     "name": "stdout",
     "output_type": "stream",
     "text": [
      "Let's count:the numbers 0\n",
      "Let's count:the numbers 1\n",
      "Let's count:the numbers 2\n",
      "Let's count:the numbers 3\n",
      "Let's count:the numbers 4\n",
      "Let's count:the numbers 5\n"
     ]
    }
   ],
   "source": [
    "for x in range(6):\n",
    "    print(\"Let's count:\"+\"the numbers\",x)"
   ]
  },
  {
   "cell_type": "code",
   "execution_count": 12,
   "id": "c8273033",
   "metadata": {},
   "outputs": [
    {
     "name": "stdout",
     "output_type": "stream",
     "text": [
      "Ενέργεια για n=1: -13.60 eV\n",
      "Ενέργεια για n=2: -3.40 eV\n",
      "Ενέργεια για n=3: -1.51 eV\n",
      "Ενέργεια για n=4: -0.85 eV\n"
     ]
    }
   ],
   "source": [
    "# Λίστα με τιμές του κύριου κβαντικού αριθμού n\n",
    "quantum_numbers = [1, 2, 3, 4]\n",
    "\n",
    "# Υπολογισμός ενέργειας για κάθε επίπεδο\n",
    "for n in quantum_numbers:\n",
    "    energy = -13.6 / (n ** 2)  # Τύπος του Bohr\n",
    "    print(f\"Ενέργεια για n={n}: {energy:.2f} eV\")"
   ]
  },
  {
   "cell_type": "markdown",
   "id": "4de4cf83",
   "metadata": {},
   "source": [
    "## Η εντολές If elif else"
   ]
  },
  {
   "cell_type": "markdown",
   "id": "81b68cb4-1b03-4def-a836-98c2585f486f",
   "metadata": {},
   "source": [
    "Πώς λειτουργεί η If:\n",
    "\n",
    "   - Η συνθήκη (μια έκφραση που επιστρέφει True ή False) ελέγχεται.\n",
    "   - Αν η συνθήκη είναι True, τότε εκτελούνται οι εντολές που βρίσκονται κάτω από την εντολή if.\n",
    "   - Αν η συνθήκη είναι False, οι εντολές του if παραλείπονται και το πρόγραμμα συνεχίζει με τον επόμενο κώδικα."
   ]
  },
  {
   "cell_type": "code",
   "execution_count": 14,
   "id": "a89e84a6-df6f-4411-a9ef-3d5af4bd5879",
   "metadata": {},
   "outputs": [
    {
     "name": "stdout",
     "output_type": "stream",
     "text": [
      "0.0029321041589760455 0.9866675974729405\n",
      "b is greater than a\n"
     ]
    }
   ],
   "source": [
    "import random as rd\n",
    "#rd.seed(10)\n",
    "a=rd.random()\n",
    "b=rd.random()\n",
    "\n",
    "print(a,b)\n",
    "\n",
    "if b > a:\n",
    "    print(\"b is greater than a\")"
   ]
  },
  {
   "cell_type": "markdown",
   "id": "9e2873ce-bbeb-495c-95bc-a18be8801fe0",
   "metadata": {},
   "source": [
    "- Η εντολή else χρησιμοποιείται για να εκτελέσει έναν κώδικα όταν η συνθήκη του if είναι ψευδής (False). \n",
    "- Αν η συνθήκη του if δεν ικανοποιείται, τότε το πρόγραμμα πηγαίνει στο μπλοκ του else και εκτελεί τον κώδικα που βρίσκεται εκεί."
   ]
  },
  {
   "cell_type": "code",
   "execution_count": 16,
   "id": "c3200617",
   "metadata": {},
   "outputs": [
    {
     "name": "stdout",
     "output_type": "stream",
     "text": [
      "0.5077349335740089 0.05773641083237646\n",
      "b is not greater than a\n"
     ]
    }
   ],
   "source": [
    "import random as rd\n",
    "#rd.seed(10)\n",
    "a=rd.random()\n",
    "b=rd.random()\n",
    "\n",
    "print(a,b)\n",
    "\n",
    "if b > a:\n",
    "  print(\"b is greater than a\")\n",
    "else:\n",
    "  print(\"b is not greater than a\")"
   ]
  },
  {
   "cell_type": "markdown",
   "id": "3014c0d6-0a83-434f-b914-d2b5e6b04b1a",
   "metadata": {},
   "source": [
    "- Η εντολή elif (που προέρχεται από το else if) χρησιμοποιείται για να ελέγξει επιπλέον συνθήκες αν η αρχική συνθήκη του if είναι ψευδής (False). \n",
    "- Είναι ένας τρόπος να προσθέσουμε πιο πολλές επιλογές (συνθήκες) χωρίς να χρειαστεί να γράψουμε πολλαπλά μπλοκ if"
   ]
  },
  {
   "cell_type": "code",
   "execution_count": 17,
   "id": "87914a9f",
   "metadata": {},
   "outputs": [
    {
     "name": "stdout",
     "output_type": "stream",
     "text": [
      "b is greater than a\n"
     ]
    }
   ],
   "source": [
    "# Chained statements\n",
    "a = 100\n",
    "b = 200\n",
    "if b > a:\n",
    "  print(\"b is greater than a\")\n",
    "elif a == b:\n",
    "  print(\"a and b are equal\")\n",
    "else:\n",
    "  print(\"a is greater than b\")"
   ]
  },
  {
   "cell_type": "code",
   "execution_count": 6,
   "id": "69368f3d",
   "metadata": {},
   "outputs": [
    {
     "ename": "IndentationError",
     "evalue": "expected an indented block after 'if' statement on line 7 (3318497054.py, line 8)",
     "output_type": "error",
     "traceback": [
      "\u001b[1;36m  Cell \u001b[1;32mIn[6], line 8\u001b[1;36m\u001b[0m\n\u001b[1;33m    print(\"a and b are equal\")\u001b[0m\n\u001b[1;37m    ^\u001b[0m\n\u001b[1;31mIndentationError\u001b[0m\u001b[1;31m:\u001b[0m expected an indented block after 'if' statement on line 7\n"
     ]
    }
   ],
   "source": [
    "# Nested statements\n",
    "a = 200\n",
    "b = 200\n",
    "if b > a:\n",
    "  print(\"b is greater than a\")\n",
    "else: \n",
    "    if a == b:\n",
    "        print(\"a and b are equal\")\n",
    "    else:\n",
    "        print(\"a is greater than b\")"
   ]
  },
  {
   "cell_type": "markdown",
   "id": "54ed9c6a-6388-4f3a-83ed-8fd4c97cf199",
   "metadata": {},
   "source": [
    "## Η εντολή while"
   ]
  },
  {
   "cell_type": "markdown",
   "id": "259b28b9-2a67-4fd3-9022-d6f01e8d0072",
   "metadata": {},
   "source": [
    "1. Ελέγχει την συνθήκη.\n",
    "2. Αν η συνθήκη είναι αληθής (True), εκτελεί τον κώδικα που βρίσκεται μέσα στον βρόχο.\n",
    "3. Αν η συνθήκη είναι ψευδής (False), το πρόγραμμα βγαίνει από τον βρόχο και συνεχίζει με τις επόμενες εντολές μετά τον βρόχο."
   ]
  },
  {
   "cell_type": "code",
   "execution_count": 19,
   "id": "4668b003-adab-40ec-9c75-770d0261893c",
   "metadata": {},
   "outputs": [
    {
     "name": "stdout",
     "output_type": "stream",
     "text": [
      "0\n",
      "1\n",
      "2\n",
      "3\n",
      "4\n",
      "done\n"
     ]
    }
   ],
   "source": [
    "i = 0\n",
    "\n",
    "while i < 5:\n",
    "    print(i)\n",
    "    \n",
    "    i = i + 1\n",
    "    \n",
    "print(\"done\")"
   ]
  },
  {
   "cell_type": "markdown",
   "id": "b14c7868-2c0f-4658-bf44-365a6c47f246",
   "metadata": {},
   "source": [
    "Άσκηση: Υπολογίστε την ενέργεια του κβαντικού ταλαντωτή σε διάφορες καταστάσεις (n = 0, 1, 2, ...) χρησιμοποιώντας τη φόρμουλα:\n",
    "\n",
    "\n",
    "$$E_n=(n+\\frac{1}{2})\\hbar \\omega$$\n",
    "για τα πρώτα 5 επίπεδα (n = 0 έως 4) και να τις εκτυπώσετε"
   ]
  },
  {
   "cell_type": "code",
   "execution_count": null,
   "id": "3fc2c022-986e-443f-9277-656f26f752a0",
   "metadata": {},
   "outputs": [],
   "source": [
    "# Σταθερές\n",
    "h_bar = 1.0545718e-34  # μειωμένη σταθερά του Πλάνκ σε J·s\n",
    "omega = 1.0  # γωνιακή συχνότητα (αυτή είναι μια τυχαία τιμή για την άσκηση)\n",
    "\n",
    "# Αρχική τιμή του n\n",
    "n = 0\n",
    "\n",
    "# Επανάληψη για τα πρώτα 5 επίπεδα\n",
    "while n < ...:\n",
    "    # Υπολογισμός της ενέργειας για το επίπεδο n\n",
    "    E_n = ...\n",
    "    # Εμφάνιση αποτελέσματος με βάση την τιμή του n\n",
    "    if n == 0:\n",
    "        print(f\"Για το n={n}, η ενέργεια E_n είναι: {E_n} Joules\")\n",
    "    ...\n",
    "    \n",
    "    # Αυξάνουμε το n για την επόμενη κατάσταση\n",
    "    n += 1"
   ]
  },
  {
   "cell_type": "code",
   "execution_count": 23,
   "id": "d841982f-cf32-486a-972b-6f45596c984d",
   "metadata": {},
   "outputs": [
    {
     "name": "stdout",
     "output_type": "stream",
     "text": [
      "Για το n=0, η ενέργεια E_n είναι: 5.272859e-35 Joules\n",
      "Για το n=1, η ενέργεια E_n είναι: 1.5818577e-34 Joules\n",
      "Για το n=2, η ενέργεια E_n είναι: 2.6364295e-34 Joules\n",
      "Για το n=3, η ενέργεια E_n είναι: 3.6910013e-34 Joules\n",
      "Για το n=4, η ενέργεια E_n είναι: 4.7455731e-34 Joules\n"
     ]
    }
   ],
   "source": [
    "# Σταθερές\n",
    "h_bar = 1.0545718e-34  # μειωμένη σταθερά του Πλάνκ σε J·s\n",
    "omega = 1.0  # γωνιακή συχνότητα (αυτή είναι μια τυχαία τιμή για την άσκηση)\n",
    "\n",
    "# Αρχική τιμή του n\n",
    "n = 0\n",
    "\n",
    "# Επανάληψη για τα πρώτα 5 επίπεδα\n",
    "while n < 5:\n",
    "    # Υπολογισμός της ενέργειας για το επίπεδο n\n",
    "    E_n = (n + 0.5) * h_bar * omega\n",
    "#   E_n =    \n",
    "    # Εμφάνιση αποτελέσματος με βάση την τιμή του n\n",
    "    if n == 0:\n",
    "        print(f\"Για το n={n}, η ενέργεια E_n είναι: {E_n} Joules\")\n",
    "    elif n == 1:\n",
    "        print(f\"Για το n={n}, η ενέργεια E_n είναι: {E_n} Joules\")\n",
    "    elif n == 2:\n",
    "        print(f\"Για το n={n}, η ενέργεια E_n είναι: {E_n} Joules\")\n",
    "    elif n == 3:\n",
    "        print(f\"Για το n={n}, η ενέργεια E_n είναι: {E_n} Joules\")\n",
    "    else:\n",
    "        print(f\"Για το n={n}, η ενέργεια E_n είναι: {E_n} Joules\")\n",
    "    \n",
    "    # Αυξάνουμε το n για την επόμενη κατάσταση\n",
    "    n += 1\n",
    "\n"
   ]
  }
 ],
 "metadata": {
  "kernelspec": {
   "display_name": "Python 3 (ipykernel)",
   "language": "python",
   "name": "python3"
  },
  "language_info": {
   "codemirror_mode": {
    "name": "ipython",
    "version": 3
   },
   "file_extension": ".py",
   "mimetype": "text/x-python",
   "name": "python",
   "nbconvert_exporter": "python",
   "pygments_lexer": "ipython3",
   "version": "3.12.3"
  },
  "varInspector": {
   "cols": {
    "lenName": 16,
    "lenType": 16,
    "lenVar": 40
   },
   "kernels_config": {
    "python": {
     "delete_cmd_postfix": "",
     "delete_cmd_prefix": "del ",
     "library": "var_list.py",
     "varRefreshCmd": "print(var_dic_list())"
    },
    "r": {
     "delete_cmd_postfix": ") ",
     "delete_cmd_prefix": "rm(",
     "library": "var_list.r",
     "varRefreshCmd": "cat(var_dic_list()) "
    }
   },
   "types_to_exclude": [
    "module",
    "function",
    "builtin_function_or_method",
    "instance",
    "_Feature"
   ],
   "window_display": false
  }
 },
 "nbformat": 4,
 "nbformat_minor": 5
}
