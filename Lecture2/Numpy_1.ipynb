{
 "cells": [
  {
   "cell_type": "markdown",
   "metadata": {},
   "source": [
    "# Numpy - πολυδιάστατοι πίνακες δεδομένων"
   ]
  },
  {
   "cell_type": "markdown",
   "metadata": {},
   "source": [
    "## Εισαγωγή"
   ]
  },
  {
   "cell_type": "markdown",
   "metadata": {},
   "source": [
    "Το πακέτο «numpy» (module) χρησιμοποιείται σχεδόν σε όλους τους αριθμητικούς υπολογισμούς της Python. Είναι ένα πακέτο που παρέχει διανυσματα, πίνακες και data structures πολλών διαστάσεων για την Python. Τρέχει πίσω C και Fortran, επομένως όταν οι υπολογισμοί είναι διανυσματικοί (διατυπωμένοι με διανύσματα και πίνακες), η ταχύτητα εκτέλεσης είναι πολύ καλή.\n",
    "\n",
    "Για να χρησιμοποιήσετε το \"numpy\" πρέπει να εισαγάγετε το module, όπως προείπαμε:"
   ]
  },
  {
   "cell_type": "code",
   "execution_count": 4,
   "metadata": {},
   "outputs": [],
   "source": [
    "from numpy import *"
   ]
  },
  {
   "cell_type": "markdown",
   "metadata": {},
   "source": [
    "Στο πακέτο «numpy», η ορολογία που χρησιμοποιείται για διανύσματα, πίνακες και σύνολα δεδομένων υψηλότερων διαστάσεων είναι *array*.\n",
    "\n"
   ]
  },
  {
   "cell_type": "markdown",
   "metadata": {},
   "source": [
    "## Δημιουργία «numpy» arrays"
   ]
  },
  {
   "cell_type": "markdown",
   "metadata": {},
   "source": [
    "Υπάρχουν διάφοροι τρόποι για να αρχικοποιήσετε  numpy arrays, για παράδειγμα από\n",
    "\n",
    "* μια λίστα Python ή πλειάδες (tuples)\n",
    "* χρησιμοποιώντας συναρτήσεις που είναι αφιερωμένες στη δημιουργία numpy arrays, όπως «arange», «linspace» κ.λπ.\n",
    "* ανάγνωση δεδομένων από αρχεία"
   ]
  },
  {
   "cell_type": "markdown",
   "metadata": {},
   "source": [
    "### Από λίστες"
   ]
  },
  {
   "cell_type": "markdown",
   "metadata": {},
   "source": [
    "Για παράδειγμα, για να δημιουργήσουμε νέους διανυσματικούς πίνακες και πίνακες από λίστες Python μπορούμε να χρησιμοποιήσουμε τη συνάρτηση «numpy.array»."
   ]
  },
  {
   "cell_type": "code",
   "execution_count": 18,
   "metadata": {},
   "outputs": [
    {
     "data": {
      "text/plain": [
       "array([1, 2, 3, 4])"
      ]
     },
     "execution_count": 18,
     "metadata": {},
     "output_type": "execute_result"
    }
   ],
   "source": [
    "# ένα διάνυσμα: το όρισμα στη συνάρτηση array είναι μια λίστα Python\n",
    "E = array([1,2,3,4])\n",
    "\n",
    "E"
   ]
  },
  {
   "cell_type": "code",
   "execution_count": 19,
   "metadata": {},
   "outputs": [
    {
     "data": {
      "text/plain": [
       "array([[0, 1],\n",
       "       [1, 0]])"
      ]
     },
     "execution_count": 19,
     "metadata": {},
     "output_type": "execute_result"
    }
   ],
   "source": [
    "# ένας πίνακας: το όρισμα στη συνάρτηση array είναι μια φωλιασμένη λίστα Python\n",
    "sigma_1 = array([[0, 1], [1, 0]])\n",
    "\n",
    "sigma_1"
   ]
  },
  {
   "cell_type": "markdown",
   "metadata": {},
   "source": [
    "Τα αντικείμενα «E» και «sigma_1» είναι και τα δύο του τύπου «ndarray» που παρέχει η ενότητα «numpy»."
   ]
  },
  {
   "cell_type": "code",
   "execution_count": 20,
   "metadata": {},
   "outputs": [
    {
     "data": {
      "text/plain": [
       "(numpy.ndarray, numpy.ndarray)"
      ]
     },
     "execution_count": 20,
     "metadata": {},
     "output_type": "execute_result"
    }
   ],
   "source": [
    "type(E), type(sigma_1)"
   ]
  },
  {
   "cell_type": "markdown",
   "metadata": {},
   "source": [
    "Η διαφορά μεταξύ των arrays «E» και «sigma_1» είναι μόνο η μορφή τους. Μπορούμε να λάβουμε πληροφορίες για τη μορφή ενός πίνακα χρησιμοποιώντας την ιδιότητα «ndarray.shape»."
   ]
  },
  {
   "cell_type": "code",
   "execution_count": 21,
   "metadata": {},
   "outputs": [
    {
     "data": {
      "text/plain": [
       "(4,)"
      ]
     },
     "execution_count": 21,
     "metadata": {},
     "output_type": "execute_result"
    }
   ],
   "source": [
    "E.shape"
   ]
  },
  {
   "cell_type": "code",
   "execution_count": 22,
   "metadata": {},
   "outputs": [
    {
     "data": {
      "text/plain": [
       "(2, 2)"
      ]
     },
     "execution_count": 22,
     "metadata": {},
     "output_type": "execute_result"
    }
   ],
   "source": [
    "sigma_1.shape"
   ]
  },
  {
   "cell_type": "markdown",
   "metadata": {},
   "source": [
    "Ο αριθμός των στοιχείων της array είναι διαθέσιμος μέσω της ιδιότητας «ndarray.size»:"
   ]
  },
  {
   "cell_type": "code",
   "execution_count": 23,
   "metadata": {},
   "outputs": [
    {
     "data": {
      "text/plain": [
       "4"
      ]
     },
     "execution_count": 23,
     "metadata": {},
     "output_type": "execute_result"
    }
   ],
   "source": [
    "sigma_1.size"
   ]
  },
  {
   "cell_type": "markdown",
   "metadata": {},
   "source": [
    "Ισοδύναμα, θα μπορούσαμε να χρησιμοποιήσουμε τη συνάρτηση «numpy.shape» και «numpy.size»"
   ]
  },
  {
   "cell_type": "code",
   "execution_count": 24,
   "metadata": {},
   "outputs": [
    {
     "data": {
      "text/plain": [
       "(2, 2)"
      ]
     },
     "execution_count": 24,
     "metadata": {},
     "output_type": "execute_result"
    }
   ],
   "source": [
    "shape(sigma_1)"
   ]
  },
  {
   "cell_type": "code",
   "execution_count": 25,
   "metadata": {},
   "outputs": [
    {
     "data": {
      "text/plain": [
       "4"
      ]
     },
     "execution_count": 25,
     "metadata": {},
     "output_type": "execute_result"
    }
   ],
   "source": [
    "size(sigma_1)"
   ]
  },
  {
   "cell_type": "markdown",
   "metadata": {},
   "source": [
    "## Άσκηση"
   ]
  },
  {
   "cell_type": "markdown",
   "metadata": {},
   "source": [
    "Κατασκευάστε τον \n",
    "\n",
    "$$\n",
    "\\sigma_2 =\n",
    "\\begin{bmatrix}\n",
    "0 & -i \\\\\n",
    "i & 0\n",
    "\\end{bmatrix}\n",
    "$$\n",
    "\n",
    "και το τετραδιάνυσμα της ορμής p=(10,3,4,8)"
   ]
  },
  {
   "cell_type": "code",
   "execution_count": 26,
   "metadata": {},
   "outputs": [
    {
     "ename": "SyntaxError",
     "evalue": "invalid syntax (981767146.py, line 1)",
     "output_type": "error",
     "traceback": [
      "\u001b[1;36m  Cell \u001b[1;32mIn[26], line 1\u001b[1;36m\u001b[0m\n\u001b[1;33m    sigma_y =\u001b[0m\n\u001b[1;37m              ^\u001b[0m\n\u001b[1;31mSyntaxError\u001b[0m\u001b[1;31m:\u001b[0m invalid syntax\n"
     ]
    }
   ],
   "source": [
    "sigma_y = \n",
    "\n",
    "print(sigma_y)\n",
    "\n",
    "p=\n",
    "\n",
    "print(p)"
   ]
  },
  {
   "cell_type": "code",
   "execution_count": 7,
   "metadata": {},
   "outputs": [
    {
     "name": "stdout",
     "output_type": "stream",
     "text": [
      "[[ 0.+0.j -0.-1.j]\n",
      " [ 0.+1.j  0.+0.j]]\n",
      "[10  3  4  8]\n"
     ]
    }
   ],
   "source": [
    "sigma_y = array([[0, -1j], [1j, 0]])\n",
    "\n",
    "print(sigma_y)\n",
    "\n",
    "p=array([10,3,4,8])\n",
    "\n",
    "print(p)"
   ]
  },
  {
   "cell_type": "markdown",
   "metadata": {},
   "source": [
    "Μέχρι στιγμής το «numpy.ndarray» μοιάζει πολύ με μια λίστα Python (ή ένθετη λίστα). Γιατί να μην χρησιμοποιείτε απλώς λίστες Python για υπολογισμούς αντί να δημιουργήσετε έναν νέο τύπο πίνακα;\n",
    "\n",
    "Υπάρχουν διάφοροι λόγοι:\n",
    "\n",
    "* Οι λίστες Python είναι πολύ γενικές. Μπορούν να περιέχουν οποιοδήποτε είδος αντικειμένου. Ορίζονται δυναμικά. Δεν υποστηρίζουν μαθηματικές συναρτήσεις όπως πολλαπλασιασμούς πινάκων και  κ.λπ. Η εφαρμογή τέτοιων συναρτήσεων για λίστες Python δεν θα ήταν πολύ αποτελεσματική λόγω του δυναμικού ορισμού τους.\n",
    "* Οι Numpy πίνακες είναι **στατικά ορισμένοι** και **ομογενείς**. Ο τύπος των στοιχείων καθορίζεται όταν δημιουργείται ο πίνακας.\n",
    "* Οι Numpy συστοιχίες είναι αποδοτικές στη μνήμη.\n",
    "* Λόγω αυτού, η γρήγορη υλοποίηση μαθηματικών συναρτήσεων όπως ο πολλαπλασιασμός και η πρόσθεση arrays της «numpy» μπορεί να υλοποιηθεί σε μια μεταγλωττισμένη (pre-compiled) γλώσσα (χρησιμοποιείται η C και η Fortran).\n",
    "\n",
    "Χρησιμοποιώντας την ιδιότητα «dtype» (τύπος δεδομένων) ενός «ndarray», μπορούμε να δούμε τι τύπο έχουν τα δεδομένα ενός πίνακα:"
   ]
  },
  {
   "cell_type": "code",
   "execution_count": 28,
   "metadata": {},
   "outputs": [
    {
     "data": {
      "text/plain": [
       "dtype('int32')"
      ]
     },
     "execution_count": 28,
     "metadata": {},
     "output_type": "execute_result"
    }
   ],
   "source": [
    "sigma_1.dtype"
   ]
  },
  {
   "cell_type": "markdown",
   "metadata": {},
   "source": [
    "Λαμβάνουμε ένα σφάλμα εάν προσπαθήσουμε να εκχωρήσουμε μια τιμή λανθασμένου τύπου σε ένα στοιχείο σε έναν numpy πίνακα:"
   ]
  },
  {
   "cell_type": "code",
   "execution_count": 29,
   "metadata": {},
   "outputs": [
    {
     "ename": "ValueError",
     "evalue": "invalid literal for int() with base 10: 'hello'",
     "output_type": "error",
     "traceback": [
      "\u001b[1;31m---------------------------------------------------------------------------\u001b[0m",
      "\u001b[1;31mValueError\u001b[0m                                Traceback (most recent call last)",
      "Cell \u001b[1;32mIn[29], line 1\u001b[0m\n\u001b[1;32m----> 1\u001b[0m sigma_1[\u001b[38;5;241m0\u001b[39m,\u001b[38;5;241m0\u001b[39m] \u001b[38;5;241m=\u001b[39m \u001b[38;5;124m\"\u001b[39m\u001b[38;5;124mhello\u001b[39m\u001b[38;5;124m\"\u001b[39m\n",
      "\u001b[1;31mValueError\u001b[0m: invalid literal for int() with base 10: 'hello'"
     ]
    }
   ],
   "source": [
    "sigma_1[0,0] = \"hello\""
   ]
  },
  {
   "cell_type": "markdown",
   "metadata": {},
   "source": [
    "### Χρήση συναρτήσεων δημιουργίας arrays"
   ]
  },
  {
   "cell_type": "markdown",
   "metadata": {},
   "source": [
    "Για μεγαλύτερες arrays δεν είναι πρακτικό να αρχικοποιήσετε τα δεδομένα με μη αυτόματο τρόπο, χρησιμοποιώντας τις λίστες της python. Αντίθετα, μπορούμε να χρησιμοποιήσουμε μία από τις πολλές συναρτήσεις στο «numpy» που δημιουργούν arrays διαφορετικών μορφών. Μερικές από τα πιο κοινές είναι:"
   ]
  },
  {
   "cell_type": "markdown",
   "metadata": {},
   "source": [
    "#### arange"
   ]
  },
  {
   "cell_type": "code",
   "execution_count": 30,
   "metadata": {},
   "outputs": [
    {
     "data": {
      "text/plain": [
       "array([0, 1, 2, 3, 4, 5, 6, 7, 8, 9])"
      ]
     },
     "execution_count": 30,
     "metadata": {},
     "output_type": "execute_result"
    }
   ],
   "source": [
    "# δημιουργήστε μια σειρά\n",
    "\n",
    "x = arange(0, 10, 1) # ορίσματα: έναρξη, διακοπή, βήμα\n",
    "\n",
    "x"
   ]
  },
  {
   "cell_type": "code",
   "execution_count": 31,
   "metadata": {},
   "outputs": [
    {
     "data": {
      "text/plain": [
       "array([-1.00000000e+00, -9.00000000e-01, -8.00000000e-01, -7.00000000e-01,\n",
       "       -6.00000000e-01, -5.00000000e-01, -4.00000000e-01, -3.00000000e-01,\n",
       "       -2.00000000e-01, -1.00000000e-01, -2.22044605e-16,  1.00000000e-01,\n",
       "        2.00000000e-01,  3.00000000e-01,  4.00000000e-01,  5.00000000e-01,\n",
       "        6.00000000e-01,  7.00000000e-01,  8.00000000e-01,  9.00000000e-01])"
      ]
     },
     "execution_count": 31,
     "metadata": {},
     "output_type": "execute_result"
    }
   ],
   "source": [
    "x = arange(-1, 1, 0.1)\n",
    "\n",
    "x"
   ]
  },
  {
   "cell_type": "markdown",
   "metadata": {},
   "source": [
    "#### linspace και logspace"
   ]
  },
  {
   "cell_type": "code",
   "execution_count": 8,
   "metadata": {},
   "outputs": [
    {
     "data": {
      "text/plain": [
       "array([0.   , 0.375, 0.75 , 1.125, 1.5  , 1.875, 2.25 , 2.625, 3.   ,\n",
       "       3.375, 3.75 , 4.125, 4.5  , 4.875, 5.25 , 5.625, 6.   , 6.375,\n",
       "       6.75 , 7.125, 7.5  , 7.875, 8.25 , 8.625, 9.   ])"
      ]
     },
     "execution_count": 8,
     "metadata": {},
     "output_type": "execute_result"
    }
   ],
   "source": [
    "# χρησιμοποιώντας το linspace, περιλαμβάνονται και τα δύο τελικά σημεία. Εδώ 25 σημεία από το 0 έως το 10.\n",
    "linspace(0, 9, 25)"
   ]
  },
  {
   "cell_type": "code",
   "execution_count": 9,
   "metadata": {},
   "outputs": [
    {
     "data": {
      "text/plain": [
       "array([1.00000000e+00, 2.71828183e+00, 7.38905610e+00, 2.00855369e+01,\n",
       "       5.45981500e+01, 1.48413159e+02, 4.03428793e+02, 1.09663316e+03,\n",
       "       2.98095799e+03, 8.10308393e+03])"
      ]
     },
     "execution_count": 9,
     "metadata": {},
     "output_type": "execute_result"
    }
   ],
   "source": [
    "logspace(0, 9, 10, base=e)"
   ]
  },
  {
   "cell_type": "markdown",
   "metadata": {},
   "source": [
    "#### Δημιουργία ψευδοτυχαίων δεδομένων"
   ]
  },
  {
   "cell_type": "code",
   "execution_count": 34,
   "metadata": {},
   "outputs": [],
   "source": [
    "from numpy import random"
   ]
  },
  {
   "cell_type": "code",
   "execution_count": 12,
   "metadata": {},
   "outputs": [
    {
     "data": {
      "text/plain": [
       "array([[4.17022005e-01, 7.20324493e-01, 1.14374817e-04, 3.02332573e-01,\n",
       "        1.46755891e-01],\n",
       "       [9.23385948e-02, 1.86260211e-01, 3.45560727e-01, 3.96767474e-01,\n",
       "        5.38816734e-01],\n",
       "       [4.19194514e-01, 6.85219500e-01, 2.04452250e-01, 8.78117436e-01,\n",
       "        2.73875932e-02],\n",
       "       [6.70467510e-01, 4.17304802e-01, 5.58689828e-01, 1.40386939e-01,\n",
       "        1.98101489e-01],\n",
       "       [8.00744569e-01, 9.68261576e-01, 3.13424178e-01, 6.92322616e-01,\n",
       "        8.76389152e-01]])"
      ]
     },
     "execution_count": 12,
     "metadata": {},
     "output_type": "execute_result"
    }
   ],
   "source": [
    "# ομοιόμορφα κατανεμημένοι τυχαίοι αριθμοί μεταξύ [0,1]\n",
    "random.seed(1)\n",
    "random.rand(5,5)"
   ]
  },
  {
   "cell_type": "code",
   "execution_count": 36,
   "metadata": {},
   "outputs": [
    {
     "data": {
      "text/plain": [
       "array([[-0.44277614, -0.33815407, -0.19591492, -1.49787973, -0.16102545],\n",
       "       [-1.93301861, -1.37527184,  0.45541737, -0.35388879,  0.62607213],\n",
       "       [ 0.05933938, -0.89349176,  1.36844776, -0.1884616 , -0.33256444],\n",
       "       [-0.62570894,  0.31971935,  0.3629237 ,  1.23680828, -1.76304778],\n",
       "       [-1.38146984,  0.23568618,  0.24673904, -0.23572936, -0.39481136]])"
      ]
     },
     "execution_count": 36,
     "metadata": {},
     "output_type": "execute_result"
    }
   ],
   "source": [
    "# κανονικοποιημένοι τυχαίοι αριθμοί\n",
    "random.randn(5,5)"
   ]
  },
  {
   "cell_type": "markdown",
   "metadata": {},
   "source": [
    "#### diag"
   ]
  },
  {
   "cell_type": "code",
   "execution_count": 37,
   "metadata": {},
   "outputs": [
    {
     "data": {
      "text/plain": [
       "array([[1, 0, 0],\n",
       "       [0, 2, 0],\n",
       "       [0, 0, 3]])"
      ]
     },
     "execution_count": 37,
     "metadata": {},
     "output_type": "execute_result"
    }
   ],
   "source": [
    "# Διαγώνιος πίνακας\n",
    "diag([1,2,3])"
   ]
  },
  {
   "cell_type": "code",
   "execution_count": 69,
   "metadata": {},
   "outputs": [
    {
     "data": {
      "text/plain": [
       "array([[0, 1, 0, 0],\n",
       "       [0, 0, 2, 0],\n",
       "       [0, 0, 0, 3],\n",
       "       [0, 0, 0, 0]])"
      ]
     },
     "execution_count": 69,
     "metadata": {},
     "output_type": "execute_result"
    }
   ],
   "source": [
    "# διαγώνιος με μετατόπιση από την κύρια διαγώνιο\n",
    "diag([1,2,3], k=1) "
   ]
  },
  {
   "cell_type": "markdown",
   "metadata": {},
   "source": [
    "#### μηδενικά και ένα"
   ]
  },
  {
   "cell_type": "code",
   "execution_count": 39,
   "metadata": {},
   "outputs": [
    {
     "data": {
      "text/plain": [
       "array([[0., 0., 0.],\n",
       "       [0., 0., 0.],\n",
       "       [0., 0., 0.]])"
      ]
     },
     "execution_count": 39,
     "metadata": {},
     "output_type": "execute_result"
    }
   ],
   "source": [
    "zeros((3,3))"
   ]
  },
  {
   "cell_type": "code",
   "execution_count": 40,
   "metadata": {},
   "outputs": [
    {
     "data": {
      "text/plain": [
       "array([[1., 1., 1.],\n",
       "       [1., 1., 1.],\n",
       "       [1., 1., 1.]])"
      ]
     },
     "execution_count": 40,
     "metadata": {},
     "output_type": "execute_result"
    }
   ],
   "source": [
    "ones((3,3))"
   ]
  },
  {
   "cell_type": "markdown",
   "metadata": {},
   "source": [
    "## Δημιουργία και αποθήκευση αρχείου"
   ]
  },
  {
   "cell_type": "code",
   "execution_count": 78,
   "metadata": {},
   "outputs": [
    {
     "data": {
      "text/plain": [
       "array([[4.17022005e-01, 7.20324493e-01, 1.14374817e-04],\n",
       "       [3.02332573e-01, 1.46755891e-01, 9.23385948e-02],\n",
       "       [1.86260211e-01, 3.45560727e-01, 3.96767474e-01]])"
      ]
     },
     "execution_count": 78,
     "metadata": {},
     "output_type": "execute_result"
    }
   ],
   "source": [
    "#random.seed(1)\n",
    "M = random.rand(3,3)\n",
    "\n",
    "M"
   ]
  },
  {
   "cell_type": "code",
   "execution_count": 79,
   "metadata": {},
   "outputs": [],
   "source": [
    "savetxt(\"random-matrix.csv\", M)"
   ]
  },
  {
   "cell_type": "code",
   "execution_count": 80,
   "metadata": {},
   "outputs": [],
   "source": [
    "savetxt(\"random-matrix.csv\", M, fmt='%.5f') # Το fmt καθορίζει τη μορφή"
   ]
  },
  {
   "cell_type": "markdown",
   "metadata": {},
   "source": [
    "### Η εγγενής μορφή αρχείου του Numpy"
   ]
  },
  {
   "cell_type": "markdown",
   "metadata": {},
   "source": [
    "Χρήσιμο κατά την αποθήκευση και την ανάγνωση δεδομένων numpy array. Χρησιμοποιήστε τις συναρτήσεις «numpy.save» και «numpy.load»:"
   ]
  },
  {
   "cell_type": "code",
   "execution_count": 81,
   "metadata": {},
   "outputs": [],
   "source": [
    "save(\"random-matrix.npy\", M)"
   ]
  },
  {
   "cell_type": "code",
   "execution_count": 82,
   "metadata": {},
   "outputs": [
    {
     "data": {
      "text/plain": [
       "array([[4.17022005e-01, 7.20324493e-01, 1.14374817e-04],\n",
       "       [3.02332573e-01, 1.46755891e-01, 9.23385948e-02],\n",
       "       [1.86260211e-01, 3.45560727e-01, 3.96767474e-01]])"
      ]
     },
     "execution_count": 82,
     "metadata": {},
     "output_type": "execute_result"
    }
   ],
   "source": [
    "load(\"random-matrix.npy\")"
   ]
  },
  {
   "cell_type": "markdown",
   "metadata": {},
   "source": [
    "## Χειρισμός των arrays"
   ]
  },
  {
   "cell_type": "markdown",
   "metadata": {},
   "source": [
    "### Ευρετηρίαση"
   ]
  },
  {
   "cell_type": "markdown",
   "metadata": {},
   "source": [
    "Μπορούμε να καταχωρήσουμε στοιχεία σε έναν πίνακα χρησιμοποιώντας αγκύλες και δείκτες:"
   ]
  },
  {
   "cell_type": "code",
   "execution_count": 83,
   "metadata": {},
   "outputs": [
    {
     "data": {
      "text/plain": [
       "0.14675589081711304"
      ]
     },
     "execution_count": 83,
     "metadata": {},
     "output_type": "execute_result"
    }
   ],
   "source": [
    "# Το M είναι ένας πίνακας, ή ένας πίνακας 2 διαστάσεων, που παίρνει δύο δείκτες\n",
    "M[1,1]"
   ]
  },
  {
   "cell_type": "markdown",
   "metadata": {},
   "source": [
    "Εάν παραλείψουμε ένα ευρετήριο ενός πολυδιάστατου πίνακα, επιστρέφει ολόκληρη τη σειρά (ή, γενικά, έναν πίνακα διαστάσεων N-1)"
   ]
  },
  {
   "cell_type": "code",
   "execution_count": 84,
   "metadata": {},
   "outputs": [
    {
     "data": {
      "text/plain": [
       "array([[4.17022005e-01, 7.20324493e-01, 1.14374817e-04],\n",
       "       [3.02332573e-01, 1.46755891e-01, 9.23385948e-02],\n",
       "       [1.86260211e-01, 3.45560727e-01, 3.96767474e-01]])"
      ]
     },
     "execution_count": 84,
     "metadata": {},
     "output_type": "execute_result"
    }
   ],
   "source": [
    "M"
   ]
  },
  {
   "cell_type": "code",
   "execution_count": 85,
   "metadata": {},
   "outputs": [
    {
     "data": {
      "text/plain": [
       "array([0.30233257, 0.14675589, 0.09233859])"
      ]
     },
     "execution_count": 85,
     "metadata": {},
     "output_type": "execute_result"
    }
   ],
   "source": [
    "M[1]"
   ]
  },
  {
   "cell_type": "markdown",
   "metadata": {},
   "source": [
    "Το ίδιο πράγμα μπορεί να επιτευχθεί χρησιμοποιώντας το «:» αντί για ένα ευρετήριο:"
   ]
  },
  {
   "cell_type": "code",
   "execution_count": 49,
   "metadata": {},
   "outputs": [
    {
     "data": {
      "text/plain": [
       "array([0.04829479, 0.0785032 , 0.44056288])"
      ]
     },
     "execution_count": 49,
     "metadata": {},
     "output_type": "execute_result"
    }
   ],
   "source": [
    "M[1,:] # σειρά 1"
   ]
  },
  {
   "cell_type": "code",
   "execution_count": 50,
   "metadata": {},
   "outputs": [
    {
     "data": {
      "text/plain": [
       "array([0.28116945, 0.0785032 , 0.420895  ])"
      ]
     },
     "execution_count": 50,
     "metadata": {},
     "output_type": "execute_result"
    }
   ],
   "source": [
    "M[:,1] # στήλη 1"
   ]
  },
  {
   "cell_type": "markdown",
   "metadata": {},
   "source": [
    "Μπορούμε να εκχωρήσουμε νέες τιμές σε στοιχεία ενός πίνακα χρησιμοποιώντας την ευρετηρίαση:"
   ]
  },
  {
   "cell_type": "code",
   "execution_count": 51,
   "metadata": {},
   "outputs": [],
   "source": [
    "M[0,0] = 1"
   ]
  },
  {
   "cell_type": "code",
   "execution_count": 52,
   "metadata": {},
   "outputs": [
    {
     "data": {
      "text/plain": [
       "array([[1.        , 0.28116945, 0.7272711 ],\n",
       "       [0.04829479, 0.0785032 , 0.44056288],\n",
       "       [0.08347799, 0.420895  , 0.15667932]])"
      ]
     },
     "execution_count": 52,
     "metadata": {},
     "output_type": "execute_result"
    }
   ],
   "source": [
    "M"
   ]
  },
  {
   "cell_type": "code",
   "execution_count": 86,
   "metadata": {},
   "outputs": [],
   "source": [
    "# λειτουργεί επίσης για γραμμές και στήλες\n",
    "M[1,:] = 0\n",
    "M[:,2] = -1"
   ]
  },
  {
   "cell_type": "code",
   "execution_count": 87,
   "metadata": {},
   "outputs": [
    {
     "data": {
      "text/plain": [
       "array([[ 0.417022  ,  0.72032449, -1.        ],\n",
       "       [ 0.        ,  0.        , -1.        ],\n",
       "       [ 0.18626021,  0.34556073, -1.        ]])"
      ]
     },
     "execution_count": 87,
     "metadata": {},
     "output_type": "execute_result"
    }
   ],
   "source": [
    "M"
   ]
  },
  {
   "cell_type": "markdown",
   "metadata": {},
   "source": [
    "### Τεμαχισμός ευρετηρίου"
   ]
  },
  {
   "cell_type": "markdown",
   "metadata": {},
   "source": [
    "Η κοπή ευρετηρίου (Index Slicing) είναι το τεχνικό όνομα για τη σύνταξη «M[lower:upper:step]» για την εξαγωγή μέρους ενός πίνακα:"
   ]
  },
  {
   "cell_type": "code",
   "execution_count": 55,
   "metadata": {},
   "outputs": [
    {
     "data": {
      "text/plain": [
       "array([1, 2, 3, 4, 5])"
      ]
     },
     "execution_count": 55,
     "metadata": {},
     "output_type": "execute_result"
    }
   ],
   "source": [
    "A = array([1,2,3,4,5])\n",
    "A"
   ]
  },
  {
   "cell_type": "code",
   "execution_count": 56,
   "metadata": {},
   "outputs": [
    {
     "data": {
      "text/plain": [
       "array([2, 3])"
      ]
     },
     "execution_count": 56,
     "metadata": {},
     "output_type": "execute_result"
    }
   ],
   "source": [
    "A[1:3]"
   ]
  },
  {
   "cell_type": "markdown",
   "metadata": {},
   "source": [
    "Οι φέτες  πίνακα είναι *μεταβλητές*: εάν τους εκχωρηθεί μια νέα τιμή, ο αρχικός πίνακας από τον οποίο εξάχθηκε το slice τροποποιείται:"
   ]
  },
  {
   "cell_type": "code",
   "execution_count": 57,
   "metadata": {},
   "outputs": [
    {
     "data": {
      "text/plain": [
       "array([ 1, -2, -3,  4,  5])"
      ]
     },
     "execution_count": 57,
     "metadata": {},
     "output_type": "execute_result"
    }
   ],
   "source": [
    "A[1:3] = [-2,-3]\n",
    "\n",
    "A"
   ]
  },
  {
   "cell_type": "markdown",
   "metadata": {},
   "source": [
    "Μπορούμε να παραλείψουμε οποιαδήποτε από τις τρεις παραμέτρους στο `M[lower:upper:step]`:"
   ]
  },
  {
   "cell_type": "code",
   "execution_count": 58,
   "metadata": {},
   "outputs": [
    {
     "data": {
      "text/plain": [
       "array([ 1, -2, -3,  4,  5])"
      ]
     },
     "execution_count": 58,
     "metadata": {},
     "output_type": "execute_result"
    }
   ],
   "source": [
    "A[::] # κάτω, πάνω, βήμα όλα παίρνουν τις προεπιλεγμένες τιμές"
   ]
  },
  {
   "cell_type": "code",
   "execution_count": 59,
   "metadata": {},
   "outputs": [
    {
     "data": {
      "text/plain": [
       "array([ 1, -3,  5])"
      ]
     },
     "execution_count": 59,
     "metadata": {},
     "output_type": "execute_result"
    }
   ],
   "source": [
    "A[::2] # Το βήμα είναι 2, και αρχή και  τέλος του πίνακα"
   ]
  },
  {
   "cell_type": "code",
   "execution_count": 60,
   "metadata": {},
   "outputs": [
    {
     "data": {
      "text/plain": [
       "array([ 1, -2, -3])"
      ]
     },
     "execution_count": 60,
     "metadata": {},
     "output_type": "execute_result"
    }
   ],
   "source": [
    "A[:3] # τρία πρώτα στοιχεία"
   ]
  },
  {
   "cell_type": "code",
   "execution_count": 61,
   "metadata": {},
   "outputs": [
    {
     "data": {
      "text/plain": [
       "array([4, 5])"
      ]
     },
     "execution_count": 61,
     "metadata": {},
     "output_type": "execute_result"
    }
   ],
   "source": [
    "A[3:] # στοιχεία ξεκινώντας από τον δείκτη 3"
   ]
  },
  {
   "cell_type": "markdown",
   "metadata": {},
   "source": [
    "Οι αρνητικοί δείκτες μετράνε από το τέλος του πίνακα (θετικός δείκτης από την αρχή):"
   ]
  },
  {
   "cell_type": "code",
   "execution_count": 62,
   "metadata": {},
   "outputs": [],
   "source": [
    "A = array([1,2,3,4,5])"
   ]
  },
  {
   "cell_type": "code",
   "execution_count": 63,
   "metadata": {},
   "outputs": [
    {
     "data": {
      "text/plain": [
       "5"
      ]
     },
     "execution_count": 63,
     "metadata": {},
     "output_type": "execute_result"
    }
   ],
   "source": [
    "A[-1] # το τελευταίο στοιχείο του πίνακα"
   ]
  },
  {
   "cell_type": "code",
   "execution_count": 64,
   "metadata": {},
   "outputs": [
    {
     "data": {
      "text/plain": [
       "array([3, 4, 5])"
      ]
     },
     "execution_count": 64,
     "metadata": {},
     "output_type": "execute_result"
    }
   ],
   "source": [
    "A[-3:] # τα τρία τελευταία στοιχεία"
   ]
  },
  {
   "cell_type": "markdown",
   "metadata": {},
   "source": [
    "### Βασικές λειτουργίες Numpy\n",
    "\n",
    "#### Δημιουργία Arrays\n",
    "\n",
    "Γράψτε κώδικα που να δημιουργεί μια numpy array με τις τιμές και έναν άλλο με τα τετράγωνα αυτών των αριθμών.\n",
    "\n",
    "#### Γεννήτριες Πινάκων\n",
    "\n",
    "Χρησιμοποιήστε τις συναρτήσεις arange και linspace για να δημιουργήσετε πίνακες αριθμών μεταξύ 0 και 10.\n",
    "\n",
    "#### Πράξεις σε Arrays\n",
    "\n",
    "Δοσμένοι δύο πίνακες  και , υπολογίστε το άθροισμα, τη διαφορά"
   ]
  },
  {
   "cell_type": "code",
   "execution_count": null,
   "metadata": {},
   "outputs": [],
   "source": [
    "import numpy as np"
   ]
  },
  {
   "cell_type": "code",
   "execution_count": null,
   "metadata": {},
   "outputs": [],
   "source": [
    "# 1. Δημιουργία Arrays\n",
    "arr = np.array([1, 2, 3, 4, 5])\n",
    "arr_squared = ...\n",
    "print(\"Πίνακας:\", arr)\n",
    "print(\"Τετράγωνα:\", arr_squared)"
   ]
  },
  {
   "cell_type": "code",
   "execution_count": null,
   "metadata": {},
   "outputs": [],
   "source": [
    "# 2. Γεννήτριες Πινάκων\n",
    "arr_arange = np.arange(...,...,...)  # Από 0 έως 10 με βήμα 1\n",
    "arr_linspace = np.linspace(...,...,...)  # 11 σημεία μεταξύ 0 και 10\n",
    "print(\"arange:\", arr_arange)\n",
    "print(\"linspace:\", arr_linspace)"
   ]
  },
  {
   "cell_type": "code",
   "execution_count": null,
   "metadata": {},
   "outputs": [],
   "source": [
    "# 3. Πράξεις σε Arrays\n",
    "A = np.array([1, 2, 3])\n",
    "B = np.array([4, 5, 6])\n",
    "\n",
    "sum_AB = ...\n",
    "diff_AB = ...\n",
    "\n",
    "print(\"Άθροισμα:\", sum_AB)\n",
    "print(\"Διαφορά:\", diff_AB)"
   ]
  },
  {
   "cell_type": "code",
   "execution_count": null,
   "metadata": {},
   "outputs": [],
   "source": [
    "import numpy as np\n",
    "\n",
    "# 1. Δημιουργία Arrays\n",
    "arr = np.array([1, 2, 3, 4, 5])\n",
    "arr_squared = arr ** 2\n",
    "print(\"Πίνακας:\", arr)\n",
    "print(\"Τετράγωνα:\", arr_squared)\n",
    "\n",
    "# 2. Γεννήτριες Πινάκων\n",
    "arr_arange = np.arange(0, 11, 1)  # Από 0 έως 10 με βήμα 1\n",
    "arr_linspace = np.linspace(0, 10, 11)  # 11 σημεία μεταξύ 0 και 10\n",
    "print(\"arange:\", arr_arange)\n",
    "print(\"linspace:\", arr_linspace)\n",
    "\n",
    "# 3. Πράξεις σε Arrays\n",
    "A = np.array([1, 2, 3])\n",
    "B = np.array([4, 5, 6])\n",
    "\n",
    "sum_AB = A + B\n",
    "diff_AB = A - B\n",
    "dot_product = np.dot(A, B)\n",
    "\n",
    "print(\"Άθροισμα:\", sum_AB)\n",
    "print(\"Διαφορά:\", diff_AB)\n",
    "print(\"Εσωτερικό γινόμενο:\", dot_product)\n"
   ]
  }
 ],
 "metadata": {
  "kernelspec": {
   "display_name": "Python 3 (ipykernel)",
   "language": "python",
   "name": "python3"
  },
  "language_info": {
   "codemirror_mode": {
    "name": "ipython",
    "version": 3
   },
   "file_extension": ".py",
   "mimetype": "text/x-python",
   "name": "python",
   "nbconvert_exporter": "python",
   "pygments_lexer": "ipython3",
   "version": "3.12.3"
  }
 },
 "nbformat": 4,
 "nbformat_minor": 4
}
