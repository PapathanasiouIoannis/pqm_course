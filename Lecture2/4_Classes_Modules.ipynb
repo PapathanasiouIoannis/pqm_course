{
 "cells": [
  {
   "cell_type": "markdown",
   "id": "54a464ab-af5a-485c-858b-fa7491839dcf",
   "metadata": {},
   "source": [
    "# Κλάσεις (Classes)"
   ]
  },
  {
   "cell_type": "markdown",
   "id": "1e8cd148-9144-4612-b8fc-c656213af2ed",
   "metadata": {},
   "source": [
    "Οι κλάσεις είναι τα βασικά χαρακτηριστικά του αντικειμενοστρεφούς προγραμματισμού. Μια κλάση είναι μια δομή για την αναπαράσταση ενός αντικειμένου και των πράξεων που μπορούν να εκτελεστούν στο αντικείμενο. \n",
    "\n",
    "Στην Python μια κλάση μπορεί να περιέχει *attributes* (μεταβλητές) και *methods* (συναρτήσεις).\n",
    "\n",
    "Μια κλάση ορίζεται σχεδόν σαν μια συνάρτηση, αλλά χρησιμοποιώντας τη λέξη κλειδί «class» ο ορισμός της κλάσης συνήθως περιέχει έναν αριθμό από ορισμούς μεθόδων κλάσης (συνάρτησεις σε μια κλάση).\n",
    "\n",
    "* Κάθε μέθοδος κλάσης θα πρέπει να έχει ως πρώτο όρισμα ένα όρισμα «self». Αυτό το αντικείμενο είναι μια αυτοαναφορά.\n",
    "\n",
    "* Ορισμένα ονόματα μεθόδων κλάσεων έχουν ειδική σημασία, για παράδειγμα:\n",
    "\n",
    "    * `__init__`: Το όνομα της μεθόδου που καλείται όταν το object (αντικείμενο) δημιουργείται για πρώτη φορά.\n",
    "    * `__str__` : Μια μέθοδος που καλείται όταν χρειάζεται μια απλή αναπαράσταση συμβολοσειράς της κλάσης, όπως για παράδειγμα όταν εκτυπώνεται."
   ]
  },
  {
   "cell_type": "markdown",
   "id": "4b54ae2c-3add-408f-923f-d7e7ca86baa3",
   "metadata": {},
   "source": [
    "Ας δουμε ένα απλό παράδειγμα με ορθογώνιο φρεαρ. Από το βιβλίο του Zetilli γνωρίζουμε οτι η ενέργεια και οι κυματοσυναρτήσεις σωματιδίου στο φρέαρ δίνονται από τις παρακάτω σχέσεις: \n",
    "\n",
    "$$E_n = \\frac{n^2 \\pi^2 \\hbar^2}{2 m L^2}$$\n",
    "\n",
    "$$\\psi_n(x) =\n",
    "\\begin{cases} \n",
    "\\sqrt{\\frac{2}{L}} \\sin\\left(\\frac{n \\pi x}{L}\\right), & 0 \\leq x \\leq L \\\\\n",
    "0, & \\text{otherwise}\n",
    "\\end{cases}$$\n"
   ]
  },
  {
   "cell_type": "code",
   "execution_count": 1,
   "id": "9b8ca8c1-7e94-44d4-8bd3-3623aa0f9b2f",
   "metadata": {},
   "outputs": [],
   "source": [
    "import math\n",
    "\n",
    "class SquareWellParticle:\n",
    "    \"\"\"\n",
    "    Αντιπροσωπεύει ένα κβαντικό σωματίδιο σε ένα άπειρο τετράγωνικό φρέαρ δυναμικού.\n",
    "    \"\"\"\n",
    "    \n",
    "    def __init__(self, well_width, quantum_number):\n",
    "        \"\"\"\n",
    "        Αρχικοποιεί το κβαντικό σωματίδιο με δεδομένο πλάτος φρέατος και κβαντικό αριθμό.\n",
    "        \"\"\"\n",
    "        self.well_width = well_width\n",
    "        self.quantum_number = quantum_number\n",
    "        \n",
    "    def energy(self):\n",
    "        \"\"\"\n",
    "        Υπολογίζει την ενέργεια του σωματιδίου στο άπειρο τετράγωνο φρέαρ.\n",
    "        \"\"\"\n",
    "        h_bar = 1.0545718e-34  # Σταθερά του Planck (J·s)\n",
    "        mass = 9.10938356e-31  # Μάζα ηλεκτρονίου (kg)\n",
    "        return (self.quantum_number ** 2 * math.pi ** 2 * h_bar ** 2) / (2 * mass * self.well_width ** 2)\n",
    "        \n",
    "    def wave_function(self, x):\n",
    "        \"\"\"\n",
    "        Υπολογίζει τη κυματοσυνάρτηση μέσα στο άπειρο τετράγωνο φρέαρ.\n",
    "        \"\"\"\n",
    "        if 0 <= x <= self.well_width:\n",
    "            return math.sqrt(2 / self.well_width) * math.sin(self.quantum_number * math.pi * x / self.well_width)\n",
    "        else:\n",
    "            return 0\n",
    "    \n",
    "    def __str__(self):\n",
    "        return \"Σωματίδιο σε τετράγωνο φρέαρ με πλάτος {:.2f} και κβαντικό αριθμό {}\".format(self.well_width, self.quantum_number)"
   ]
  },
  {
   "cell_type": "markdown",
   "id": "df5707eb-80a6-4708-b3dc-a5cc2fcd77c8",
   "metadata": {},
   "source": [
    "1. Constructor\t__init__\tΑρχικοποιεί το αντικείμενο με δεδομένο πλάτος φρέατος και κβαντικό αριθμό.\n",
    "2.  Method\tenergy\tΥπολογίζει την ενέργεια του σωματιδίου.\n",
    "3.  Method\twave_function\tΥπολογίζει την κυματοσυνάρτηση σε σημείο xx.\n",
    "4.  Method\t__str__\tΕπιστρέφει περιγραφή του αντικειμένου ως string."
   ]
  },
  {
   "cell_type": "markdown",
   "id": "f806aa33-875c-4a07-8061-e057d1585d97",
   "metadata": {},
   "source": [
    "## Παράδειγμα χρήσης"
   ]
  },
  {
   "cell_type": "markdown",
   "id": "113bdbae-3159-4be5-9970-b644e0ac2f5b",
   "metadata": {},
   "source": [
    "Δημιουργώ ένα αντικείμενο της κλάσης:"
   ]
  },
  {
   "cell_type": "code",
   "execution_count": 3,
   "id": "4cd543d9-9849-4e6b-8404-b867c74f58ce",
   "metadata": {},
   "outputs": [],
   "source": [
    "particle = SquareWellParticle(1.0, 1) #Αυτό θα ενεργοποιήσει τη μέθοδο __init__ στην κλάση SquareWellParticle"
   ]
  },
  {
   "cell_type": "code",
   "execution_count": 4,
   "id": "2e000602-a7e1-4126-b7af-458ca63d0a91",
   "metadata": {},
   "outputs": [
    {
     "name": "stdout",
     "output_type": "stream",
     "text": [
      "Σωματίδιο σε τετράγωνο φρέαρ με πλάτος 1.00 και κβαντικό αριθμό 1\n"
     ]
    }
   ],
   "source": [
    "print(particle) # #Αυτό θα ενεργοποιήσει τη μέθοδο __str__ στην κλάση SquareWellParticle"
   ]
  },
  {
   "cell_type": "code",
   "execution_count": 6,
   "id": "ce5d7821-0a2d-45c4-a4d1-3ce6c933d994",
   "metadata": {},
   "outputs": [
    {
     "name": "stdout",
     "output_type": "stream",
     "text": [
      "Ενέργεια του σωματιδίου: 6.024667294199748e-38\n",
      "Κυματοσυνάρτηση στο x=0.5: 1.4142135623730951\n"
     ]
    }
   ],
   "source": [
    "print(\"Ενέργεια του σωματιδίου:\", particle.energy()) #Για να καλέσετε μια μέθοδο κλάσης στο στιγμιότυπο κλάσης `p`:\n",
    "print(\"Κυματοσυνάρτηση στο x=0.5:\", particle.wave_function(0.5))"
   ]
  },
  {
   "cell_type": "markdown",
   "id": "2d458228-1bcd-41cb-acce-ae65c303f245",
   "metadata": {},
   "source": [
    "\n",
    "Χρησιμοποιώντας τις σχέσεις:\n",
    "\n",
    "$$E_n = \\left( n + \\frac{1}{2} \\right) \\hbar \\omega$$\n",
    "και\n",
    "$$\\psi(x) = \\left( \\frac{m\\omega}{\\pi \\hbar} \\right)^{\\frac{1}{4}} \\exp\\left( -\\frac{m\\omega x^2}{2\\hbar} \\right)$$\n",
    "\n",
    "για την ενέργεια του αρμονικού ταλαντωτή σε διάφορες στάθμες ενέργειας, καθώς και την τιμη της κυματοσυνάρτησης για διάφορες τιμες του x (στη βασική στάθμη) φτιάξτε μια κλάση που να υπολογίζει  αυτές τις τιμές με είσοδο τη μαζα m τη συχνότητα f και τον κβαντικό αριθμό n.\n",
    "\n"
   ]
  },
  {
   "cell_type": "code",
   "execution_count": 17,
   "id": "83acaf63-364e-490b-bb1c-0ed42382ce23",
   "metadata": {},
   "outputs": [
    {
     "name": "stdout",
     "output_type": "stream",
     "text": [
      "Quantum Harmonic Oscillator with mass 9.11e-31 kg, frequency 1.00e+03 Hz and quantum number 1\n",
      "Energy of the oscillator: 9.939105058688894e-31\n",
      "Wave function at x=0.001: 1.0565441713621941e-10\n"
     ]
    }
   ],
   "source": [
    "import math\n",
    "\n",
    "class HarmonicOscillator:\n",
    "    \"\"\"\n",
    "    Represents a quantum harmonic oscillator.\n",
    "    \"\"\"\n",
    "    \n",
    "    def __init__(self, mass, frequency, quantum_number):\n",
    "        \"\"\"\n",
    "        Initializes the oscillator with mass, frequency, and quantum number.\n",
    "        \"\"\"\n",
    "        self.mass = mass\n",
    "        self.frequency = frequency\n",
    "        self.quantum_number = quantum_number\n",
    "        \n",
    "    def energy(self):\n",
    "        \"\"\"\n",
    "        Calculates the energy of the oscillator.\n",
    "        \"\"\"\n",
    "        h_bar = 1.0545718e-34  # Reduced Planck constant (J·s)\n",
    "        omega = 2 * math.pi * self.frequency\n",
    "        return (self.quantum_number + 0.5) * h_bar * omega\n",
    "        \n",
    "    def wave_function(self, x):\n",
    "        \"\"\"\n",
    "        Calculates an approximation of the wave function of the oscillator (Gaussian form).\n",
    "        \"\"\"\n",
    "        m = self.mass\n",
    "        omega = 2 * math.pi * self.frequency\n",
    "        h_bar = 1.0545718e-34\n",
    "        normalization = (m * omega / (math.pi * h_bar))**0.25\n",
    "        return normalization * math.exp(-0.5 * m * omega * x**2 / h_bar)\n",
    "    \n",
    "    def __str__(self):\n",
    "        return \"Quantum Harmonic Oscillator with mass {:.2e} kg, frequency {:.2e} Hz and quantum number {}\".format(self.mass, self.frequency, self.quantum_number)\n",
    "\n",
    "# Example usage\n",
    "oscillator = HarmonicOscillator(9.10938356e-31, 1e03, 1)\n",
    "print(oscillator)\n",
    "print(\"Energy of the oscillator:\", oscillator.energy())\n",
    "print(\"Wave function at x=0.001:\", oscillator.wave_function(0.001))\n"
   ]
  },
  {
   "cell_type": "markdown",
   "id": "121ff40e-1b0d-47b4-b221-7f44e05ab0e8",
   "metadata": {},
   "source": [
    "## Modules "
   ]
  },
  {
   "cell_type": "markdown",
   "id": "8f84679c-bbe5-4b3b-90b8-da12f16b0c7f",
   "metadata": {},
   "source": [
    "Μία από τις πιο σημαντικές έννοιες στον καλό προγραμματισμό είναι η επαναχρησιμοποίηση κώδικα και η αποφυγή επαναλήψεων.\n",
    "\n",
    "Η ιδέα είναι να γραφτούν συναρτήσεις και κλάσεις με έναν καλά καθορισμένο σκοπό και εύρος, \n",
    "και να τα επαναχρησιμοποιήσουμε αντί να επαναλαμβάνουμε παρόμοιο κώδικα σε διαφορετικό μέρος ενός προγράμματος (αρθρωτός προγραμματισμός).\n",
    "Το αποτέλεσμα είναι συνήθως ότι η αναγνωσιμότητα και η δυνατότητα συντήρησης ενός προγράμματος βελτιώνονται σημαντικά. \n",
    "Αυτό στην πράξη σημαίνει ότι τα προγράμματά μας έχουν λιγότερα σφάλματα, είναι πιο εύκολο να επεκταθούν και να εντοπιστούν/επιλυθούν προβλήματα. \n",
    "\n",
    "Η Python υποστηρίζει αρθρωτό προγραμματισμό σε διαφορετικά επίπεδα. Οι συναρτήσεις και οι κλάσεις είναι παραδείγματα εργαλείων για αρθρωτό προγραμματισμό\n",
    "χαμηλού επιπέδου. \n",
    "Οι λειτουργικές μονάδες Python είναι μια αρθρωτή κατασκευή προγραμματισμού υψηλότερου επιπέδου, \n",
    "όπου μπορούμε να συλλέξουμε σχετικές μεταβλητές, συναρτήσεις και κλάσεις σε μια ενότητα. \n",
    "Μια λειτουργική μονάδα python ορίζεται σε ένα αρχείο python (με «.py» με κατάληξη αρχείου) και μπορεί να γίνει προσβάσιμο\n",
    "σε άλλες λειτουργικές μονάδες και προγράμματα Python χρησιμοποιώντας τη δήλωση «import». \n",
    "\n",
    "Εξετάστε το ακόλουθο παράδειγμα: το αρχείο «mymodule.py» περιέχει απλά παραδείγματα υλοποιήσεων μιας μεταβλητής, \n",
    "μιας συνάρτησης και μιας κλάσης:"
   ]
  },
  {
   "cell_type": "code",
   "execution_count": 22,
   "id": "2ba0ee3f-c41c-41b7-a8e9-4995eb805262",
   "metadata": {},
   "outputs": [
    {
     "name": "stdout",
     "output_type": "stream",
     "text": [
      "Writing physics.py\n"
     ]
    }
   ],
   "source": [
    "%%file physics.py\n",
    "\"\"\"\n",
    "Παράδειγμα physics module . Περιέχει τη σταθερά g σαν μεταβλητή,\n",
    "μια συνάρτηση που υπολογίζει τη δύναμη την  calculate_force, and μια class Object.\n",
    "\"\"\"\n",
    "\n",
    "# Μεταβλητή: η σταθερά επιτάχυνσης λόγω βαρύτητας\n",
    "g = 9.81  # m/s²\n",
    "\n",
    "# Συνάρτηση: υπολογισμός της δύναμης\n",
    "def calculate_force(mass, acceleration):\n",
    "    return mass * acceleration\n",
    "\n",
    "# Κλάση: Ορισμός ενός αντικειμένου που αναπαριστά ένα κινητό σώμα\n",
    "class Object:\n",
    "    def __init__(self, mass):\n",
    "        self.mass = mass\n",
    "\n",
    "    def weight(self):\n",
    "        # Η δύναμη βαρύτητας (F = mg)\n",
    "        return self.mass * g"
   ]
  },
  {
   "cell_type": "markdown",
   "id": "fa77bcdd-ffcc-4907-857b-5688514aef09",
   "metadata": {},
   "source": [
    "Την καλούμε κάνοντας import"
   ]
  },
  {
   "cell_type": "code",
   "execution_count": 24,
   "id": "42d0a03d-c4ff-4364-8f13-bc0d2faf0084",
   "metadata": {},
   "outputs": [],
   "source": [
    "import physics"
   ]
  },
  {
   "cell_type": "code",
   "execution_count": 25,
   "id": "1aad1f3e-2125-49dc-b601-c7657a97ada6",
   "metadata": {},
   "outputs": [
    {
     "name": "stdout",
     "output_type": "stream",
     "text": [
      "Help on module physics:\n",
      "\n",
      "NAME\n",
      "    physics\n",
      "\n",
      "DESCRIPTION\n",
      "    Παράδειγμα physics module . Περιέχει τη σταθερά g σαν μεταβλητή,\n",
      "    μια συνάρτηση που υπολογίζει τη δύναμη την  calculate_force, and μια class Object.\n",
      "\n",
      "CLASSES\n",
      "    builtins.object\n",
      "        Object\n",
      "\n",
      "    class Object(builtins.object)\n",
      "     |  Object(mass)\n",
      "     |\n",
      "     |  # Κλάση: Ορισμός ενός αντικειμένου που αναπαριστά ένα κινητό σώμα\n",
      "     |\n",
      "     |  Methods defined here:\n",
      "     |\n",
      "     |  __init__(self, mass)\n",
      "     |      Initialize self.  See help(type(self)) for accurate signature.\n",
      "     |\n",
      "     |  weight(self)\n",
      "     |\n",
      "     |  ----------------------------------------------------------------------\n",
      "     |  Data descriptors defined here:\n",
      "     |\n",
      "     |  __dict__\n",
      "     |      dictionary for instance variables\n",
      "     |\n",
      "     |  __weakref__\n",
      "     |      list of weak references to the object\n",
      "\n",
      "FUNCTIONS\n",
      "    calculate_force(mass, acceleration)\n",
      "        # Συνάρτηση: υπολογισμός της δύναμης\n",
      "\n",
      "DATA\n",
      "    g = 9.81\n",
      "\n",
      "FILE\n",
      "    c:\\users\\admin\\desktop\\pk1\\lecture1\\physics.py\n",
      "\n",
      "\n"
     ]
    }
   ],
   "source": [
    "help(physics)"
   ]
  },
  {
   "cell_type": "code",
   "execution_count": 26,
   "id": "e9aad787-770e-422e-98ab-d2f59778e18c",
   "metadata": {},
   "outputs": [],
   "source": [
    "# Δημιουργία αντικειμένου με μάζα 10 κιλά\n",
    "obj = physics.Object(10)"
   ]
  },
  {
   "cell_type": "code",
   "execution_count": 27,
   "id": "3a1757db-096a-4ab4-a70b-4df2acdc9294",
   "metadata": {},
   "outputs": [
    {
     "name": "stdout",
     "output_type": "stream",
     "text": [
      "Το βάρος του αντικειμένου είναι: 98.10000000000001 Νιούτον\n"
     ]
    }
   ],
   "source": [
    "# Υπολογισμός του βάρους του αντικειμένου\n",
    "print(f\"Το βάρος του αντικειμένου είναι: {obj.weight()} Νιούτον\")"
   ]
  },
  {
   "cell_type": "code",
   "execution_count": 29,
   "id": "add57795-5f1c-464b-9387-ef3635110641",
   "metadata": {},
   "outputs": [
    {
     "name": "stdout",
     "output_type": "stream",
     "text": [
      "Η δύναμη είναι: 20 Νιούτον\n"
     ]
    }
   ],
   "source": [
    "# Υπολογισμός δύναμης για επιτάχυνση 2 m/s²\n",
    "force = physics.calculate_force(10, 2)\n",
    "print(f\"Η δύναμη είναι: {force} Νιούτον\")"
   ]
  }
 ],
 "metadata": {
  "kernelspec": {
   "display_name": "Python 3 (ipykernel)",
   "language": "python",
   "name": "python3"
  },
  "language_info": {
   "codemirror_mode": {
    "name": "ipython",
    "version": 3
   },
   "file_extension": ".py",
   "mimetype": "text/x-python",
   "name": "python",
   "nbconvert_exporter": "python",
   "pygments_lexer": "ipython3",
   "version": "3.12.3"
  }
 },
 "nbformat": 4,
 "nbformat_minor": 5
}
