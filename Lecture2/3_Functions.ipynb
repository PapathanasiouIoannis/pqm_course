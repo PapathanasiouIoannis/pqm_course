{
 "cells": [
  {
   "cell_type": "markdown",
   "id": "ddabcc6a-9491-4d3c-a696-d7d671d400fc",
   "metadata": {},
   "source": [
    "# Συναρτήσεις"
   ]
  },
  {
   "cell_type": "markdown",
   "id": "4e5dfa6c-1a68-42a1-820f-3b7d611eebde",
   "metadata": {},
   "source": [
    "Μια συνάρτηση στην Python ορίζεται χρησιμοποιώντας τη λέξη-κλειδί «def», ακολουθούμενη από ένα όνομα συνάρτησης,\n",
    "παρένθεση «()» και μια άνω και κάτω τελεία «:». \n",
    "Ο ακόλουθος κώδικας, με ένα επιπλέον επίπεδο εσοχής (Tab), είναι το σώμα της συνάρτησης."
   ]
  },
  {
   "cell_type": "code",
   "execution_count": 1,
   "id": "ac8a0451-ba13-4d3b-99dc-a318580dd26f",
   "metadata": {},
   "outputs": [],
   "source": [
    "def func0():\n",
    "    print(\"test\")"
   ]
  },
  {
   "cell_type": "code",
   "execution_count": 2,
   "id": "b9030088-385e-46b1-b980-02087bfee2be",
   "metadata": {},
   "outputs": [
    {
     "name": "stdout",
     "output_type": "stream",
     "text": [
      "test\n"
     ]
    }
   ],
   "source": [
    "func0()"
   ]
  },
  {
   "cell_type": "markdown",
   "id": "57a4af3a-3ad9-403c-86fc-29c45f3fee0d",
   "metadata": {},
   "source": [
    "Μπορούμε να ορίσουμε μια περιγραφή της συνάρτησης όπως φαίνεται παρακάτω \"\"\" \"\"\""
   ]
  },
  {
   "cell_type": "code",
   "execution_count": 3,
   "id": "56b2706c-4ef6-4434-a2a1-ba1b8d10059e",
   "metadata": {},
   "outputs": [],
   "source": [
    "def func1(s):\n",
    "    \"\"\"\n",
    "    Print a string 's' and tell how many characters it has    \n",
    "    \"\"\"\n",
    "    \n",
    "    print(s + \" has \" + str(len(s)) + \" characters\")"
   ]
  },
  {
   "cell_type": "code",
   "execution_count": 4,
   "id": "e20e2645-2d30-40f4-b927-f0a36933d3d8",
   "metadata": {},
   "outputs": [
    {
     "name": "stdout",
     "output_type": "stream",
     "text": [
      "test has 4 characters\n"
     ]
    }
   ],
   "source": [
    "func1(\"test\")"
   ]
  },
  {
   "cell_type": "code",
   "execution_count": 9,
   "id": "77a0baa9-250d-4500-8962-2d8b59169967",
   "metadata": {},
   "outputs": [
    {
     "name": "stdout",
     "output_type": "stream",
     "text": [
      "Help on function func1 in module __main__:\n",
      "\n",
      "func1(s)\n",
      "    Print a string 's' and tell how many characters it has\n",
      "\n"
     ]
    }
   ],
   "source": [
    "help(func1)"
   ]
  },
  {
   "cell_type": "markdown",
   "id": "e0d1d001-a03a-4e4e-bd73-e619fb74caa4",
   "metadata": {},
   "source": [
    "Συναρτήσεις που επιστρέφουν μια τιμή χρησιμοποιούν την εντολη return:"
   ]
  },
  {
   "cell_type": "code",
   "execution_count": 10,
   "id": "c8b5678f-9d39-4e69-a8c8-f0dddb3130d5",
   "metadata": {},
   "outputs": [],
   "source": [
    "def square(x):\n",
    "    \"\"\"\n",
    "    Return the square of x.\n",
    "    \"\"\"\n",
    "    return x ** 2"
   ]
  },
  {
   "cell_type": "code",
   "execution_count": 11,
   "id": "7859994a-1f7e-47be-99c3-10ffe6579f63",
   "metadata": {},
   "outputs": [
    {
     "data": {
      "text/plain": [
       "16"
      ]
     },
     "execution_count": 11,
     "metadata": {},
     "output_type": "execute_result"
    }
   ],
   "source": [
    "square(4)"
   ]
  },
  {
   "cell_type": "markdown",
   "id": "af17f849-1592-497f-a85e-ab80d039b6ac",
   "metadata": {},
   "source": [
    "Μπορούμε να επιστρέφουμε τιμές για μια συνάρτηση χρησιμοποιώντας πλειάδες (tuples):"
   ]
  },
  {
   "cell_type": "code",
   "execution_count": 12,
   "id": "9648cbd3-a42c-4ea0-8c04-1fb1307d392e",
   "metadata": {},
   "outputs": [],
   "source": [
    "def powers(x):\n",
    "    \"\"\"\n",
    "    Return a few powers of x.\n",
    "    \"\"\"\n",
    "    return x ** 2, x ** 3, x ** 4"
   ]
  },
  {
   "cell_type": "code",
   "execution_count": 13,
   "id": "133c0ad6-ee9f-4bcc-9fca-a55bc2991f8b",
   "metadata": {},
   "outputs": [
    {
     "data": {
      "text/plain": [
       "(9, 27, 81)"
      ]
     },
     "execution_count": 13,
     "metadata": {},
     "output_type": "execute_result"
    }
   ],
   "source": [
    "powers(3)"
   ]
  },
  {
   "cell_type": "code",
   "execution_count": 14,
   "id": "5726364b-aec6-417b-a663-b998925f0553",
   "metadata": {},
   "outputs": [
    {
     "name": "stdout",
     "output_type": "stream",
     "text": [
      "27\n"
     ]
    }
   ],
   "source": [
    "x2, x3, x4 = powers(3)\n",
    "\n",
    "print(x3)"
   ]
  },
  {
   "cell_type": "markdown",
   "id": "1261eec5-f65c-4e6c-96a8-c1eb6daa647a",
   "metadata": {},
   "source": [
    "## Προεπιλεγμένο όρισμα και ορίσματα λέξεων-κλειδιών"
   ]
  },
  {
   "cell_type": "markdown",
   "id": "be0d0ee0-8d37-4674-9f97-74243cb4c652",
   "metadata": {},
   "source": [
    "Μπορούμε να προεπιλέξουμε τα ορίσματα της συνάρτησης κατά τον ορισμό της:"
   ]
  },
  {
   "cell_type": "code",
   "execution_count": 17,
   "id": "b1e94e84-7388-4f86-9e25-b46aba7f3334",
   "metadata": {},
   "outputs": [],
   "source": [
    "def myfunc(x, p=2, debug=False):\n",
    "    if debug:\n",
    "        print(\"evaluating myfunc for x = \" + str(x) + \" using exponent p = \" + str(p))\n",
    "    return x**p"
   ]
  },
  {
   "cell_type": "code",
   "execution_count": 18,
   "id": "5636a6b2-b32b-4620-9b93-aaa4dc0e3f47",
   "metadata": {},
   "outputs": [
    {
     "data": {
      "text/plain": [
       "25"
      ]
     },
     "execution_count": 18,
     "metadata": {},
     "output_type": "execute_result"
    }
   ],
   "source": [
    "myfunc(5)"
   ]
  },
  {
   "cell_type": "code",
   "execution_count": 20,
   "id": "7a1f7b9b-5bf0-4d2e-bff7-98be4338b073",
   "metadata": {},
   "outputs": [
    {
     "name": "stdout",
     "output_type": "stream",
     "text": [
      "evaluating myfunc for x = 5 using exponent p = 2\n"
     ]
    },
    {
     "data": {
      "text/plain": [
       "25"
      ]
     },
     "execution_count": 20,
     "metadata": {},
     "output_type": "execute_result"
    }
   ],
   "source": [
    "myfunc(5,debug=True)"
   ]
  },
  {
   "cell_type": "markdown",
   "id": "7bd9fc98-9660-4a62-aa14-e71f54316f41",
   "metadata": {},
   "source": [
    "Εάν αναφέρουμε ρητά το όνομα των ορισμάτων στις κλήσεις της συνάρτησης, \n",
    "δεν χρειάζεται να έχουν την ίδια σειρά όπως στον ορισμό της συνάρτησης. \n",
    "Αυτό ονομάζεται ορίσματα *λέξεων-κλειδιών* και είναι συχνά πολύ χρήσιμο σε συναρτήσεις που απαιτούν πολλά προαιρετικά ορίσματα."
   ]
  },
  {
   "cell_type": "code",
   "execution_count": 21,
   "id": "4d9b2b38-ee6f-40c5-aa0f-37d8d216b140",
   "metadata": {},
   "outputs": [
    {
     "name": "stdout",
     "output_type": "stream",
     "text": [
      "evaluating myfunc for x = 7 using exponent p = 3\n"
     ]
    },
    {
     "data": {
      "text/plain": [
       "343"
      ]
     },
     "execution_count": 21,
     "metadata": {},
     "output_type": "execute_result"
    }
   ],
   "source": [
    "myfunc(p=3, debug=True, x=7)"
   ]
  },
  {
   "cell_type": "markdown",
   "id": "e344cd2b-d3b9-468f-95d4-effb6a8e81b4",
   "metadata": {},
   "source": [
    "## Συναρτήσεις χωρίς όνομα (η συνάρτηση lamda)"
   ]
  },
  {
   "cell_type": "markdown",
   "id": "2979e60e-2b7c-4ddf-965c-d0bb81bc7b0d",
   "metadata": {},
   "source": [
    "Μπορούμε να φτιάξουμε συναρτήσεις χωρίς όνομα χρησιμοποιώντας τη λεξη κλειδί lambda"
   ]
  },
  {
   "cell_type": "code",
   "execution_count": 22,
   "id": "1b8d0172-0fd8-410f-865b-08a15b68acad",
   "metadata": {},
   "outputs": [],
   "source": [
    "f1 = lambda x: x**2\n",
    "    \n",
    "# ισοδύναμη με \n",
    "\n",
    "def f2(x):\n",
    "    return x**2"
   ]
  },
  {
   "cell_type": "code",
   "execution_count": 23,
   "id": "49145a74-0ad8-4cb2-af2f-ae812063dd22",
   "metadata": {},
   "outputs": [
    {
     "data": {
      "text/plain": [
       "(4, 4)"
      ]
     },
     "execution_count": 23,
     "metadata": {},
     "output_type": "execute_result"
    }
   ],
   "source": [
    "f1(2), f2(2)"
   ]
  },
  {
   "cell_type": "markdown",
   "id": "84c57955-9480-4912-a2eb-31bcb3848e81",
   "metadata": {},
   "source": [
    "Αυτή η τεχνική είναι χρήσιμη για παράδειγμα όταν θέλουμε να περάσουμε μια απλή συνάρτηση ως όρισμα σε μια άλλη συνάρτηση, όπως αυτή:"
   ]
  },
  {
   "cell_type": "code",
   "execution_count": 24,
   "id": "1d683d74-7047-4bdf-95e0-b0e7bbc7088d",
   "metadata": {},
   "outputs": [
    {
     "data": {
      "text/plain": [
       "[9, 4, 1, 0, 1, 4, 9]"
      ]
     },
     "execution_count": 24,
     "metadata": {},
     "output_type": "execute_result"
    }
   ],
   "source": [
    "list(map(lambda x: x**2, range(-3,4)))"
   ]
  },
  {
   "cell_type": "markdown",
   "id": "fc01ac8c-abd5-4e6f-90f5-448b0c4abea7",
   "metadata": {},
   "source": [
    "Φτιάξτε μια βασική συνάρτηση που υπολογίζει την ενέργεια ενός σωματιδίου σε ένα ορθογώνιο φρεαρ, χρησιμοποιώντας τη γνωστή σχέση από την κβαντομηχανική:\n",
    "\n",
    "$$E_n = \\frac{n^2 \\pi^2 \\hbar^2​}{2mL^2}$$"
   ]
  },
  {
   "cell_type": "code",
   "execution_count": null,
   "id": "64081d79-2551-4fb7-bf07-e9d9e7bf9c8f",
   "metadata": {},
   "outputs": [],
   "source": [
    "import math\n",
    "\n",
    "def ...(..., ..., ...):\n",
    "    h_bar = 1.0545718e-34  # Σταθερά του Πλάνκ σε Joule·sec\n",
    "    energy = ...\n",
    "    return ...\n",
    "\n",
    "# Παράδειγμα χρήσης:\n",
    "n = 1      # Επίπεδο\n",
    "m = 9.11e-31  # Μάζα ηλεκτρονίου σε kg\n",
    "L = 1e-10   # Μήκος κουτιού σε μέτρα (1 Å)\n",
    "\n",
    "energy = ...(..., ..., ...)\n",
    "print(f\"Η ενέργεια για το επίπεδο {n} είναι {energy} Joules\")"
   ]
  },
  {
   "cell_type": "code",
   "execution_count": 1,
   "id": "b2a28528-ceca-4625-9ddb-6eb32334d86c",
   "metadata": {},
   "outputs": [
    {
     "name": "stdout",
     "output_type": "stream",
     "text": [
      "Η ενέργεια για το επίπεδο 1 είναι 6.024259627250588e-18 Joules\n"
     ]
    }
   ],
   "source": [
    "import math\n",
    "\n",
    "def calculate_energy(n, m, L):\n",
    "    h_bar = 1.0545718e-34  # Σταθερά του Πλάνκ σε Joule·sec\n",
    "    energy = (n**2 * math.pi**2 * h_bar**2) / (2 * m * L**2)\n",
    "    return energy\n",
    "\n",
    "# Παράδειγμα χρήσης:\n",
    "n = 1      # Επίπεδο\n",
    "m = 9.11e-31  # Μάζα ηλεκτρονίου σε kg\n",
    "L = 1e-10   # Μήκος κουτιού σε μέτρα (1 Å)\n",
    "\n",
    "energy = calculate_energy(n, m, L)\n",
    "print(f\"Η ενέργεια για το επίπεδο {n} είναι {energy} Joules\")\n",
    "\n",
    "\n"
   ]
  },
  {
   "cell_type": "code",
   "execution_count": null,
   "id": "5d6c4e57-a704-4c43-ae6a-cd03e31867ee",
   "metadata": {},
   "outputs": [],
   "source": []
  }
 ],
 "metadata": {
  "kernelspec": {
   "display_name": "Python 3 (ipykernel)",
   "language": "python",
   "name": "python3"
  },
  "language_info": {
   "codemirror_mode": {
    "name": "ipython",
    "version": 3
   },
   "file_extension": ".py",
   "mimetype": "text/x-python",
   "name": "python",
   "nbconvert_exporter": "python",
   "pygments_lexer": "ipython3",
   "version": "3.12.3"
  }
 },
 "nbformat": 4,
 "nbformat_minor": 5
}
